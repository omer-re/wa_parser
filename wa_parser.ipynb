{
  "nbformat": 4,
  "nbformat_minor": 0,
  "metadata": {
    "colab": {
      "name": "wa_parser.ipynb",
      "provenance": [],
      "authorship_tag": "ABX9TyMH6gRsG1ji3Z13/kzvWXG7",
      "include_colab_link": true
    },
    "kernelspec": {
      "name": "python3",
      "display_name": "Python 3"
    },
    "language_info": {
      "name": "python"
    }
  },
  "cells": [
    {
      "cell_type": "markdown",
      "metadata": {
        "id": "view-in-github",
        "colab_type": "text"
      },
      "source": [
        "<a href=\"https://colab.research.google.com/github/omer-re/wa_parser/blob/master/wa_parser.ipynb\" target=\"_parent\"><img src=\"https://colab.research.google.com/assets/colab-badge.svg\" alt=\"Open In Colab\"/></a>"
      ]
    },
    {
      "cell_type": "code",
      "metadata": {
        "id": "xkrAJgVXZsqL"
      },
      "source": [
        "# source/inspired by: https://www.imrankhan.dev/pages/Exploring%20WhatsApp%20chats%20with%20Python.html\n",
        "import datetime\n",
        "\n",
        "from dateutil.parser import parse\n",
        "import pandas as pd\n",
        "import re\n",
        "import itertools\n",
        "import numpy as np\n",
        "import pandas as pd\n",
        "import matplotlib.pyplot as plt\n",
        "from matplotlib.ticker import StrMethodFormatter\n",
        "import matplotlib.pyplot as plt\n",
        "from prettytable import PrettyTable\n",
        "\n",
        "from google.colab import files"
      ],
      "execution_count": null,
      "outputs": []
    },
    {
      "cell_type": "code",
      "metadata": {
        "id": "Lwq6W6YAZ5-H"
      },
      "source": [
        "def is_date(string, fuzzy=False):\n",
        "    \"\"\"\n",
        "    Return whether the string can be interpreted as a date.\n",
        "\n",
        "    :param string: str, string to check for date\n",
        "    :param fuzzy: bool, ignore unknown tokens in string if True\n",
        "    \"\"\"\n",
        "    try:\n",
        "        parse(string, fuzzy=fuzzy)\n",
        "        return True\n",
        "\n",
        "    except ValueError:\n",
        "        return False"
      ],
      "execution_count": null,
      "outputs": []
    },
    {
      "cell_type": "code",
      "metadata": {
        "colab": {
          "resources": {
            "http://localhost:8080/nbextensions/google.colab/files.js": {
              "data": "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",
              "ok": true,
              "headers": [
                [
                  "content-type",
                  "application/javascript"
                ]
              ],
              "status": 200,
              "status_text": "OK"
            }
          },
          "base_uri": "https://localhost:8080/",
          "height": 76
        },
        "id": "_Qgi1ciraQLo",
        "outputId": "63a233c3-0e0f-4440-ace9-7636accfe2ed"
      },
      "source": [
        "file = files.upload()\n",
        "chat_file = f\"/content/{list(file.keys())[0]}\""
      ],
      "execution_count": null,
      "outputs": [
        {
          "output_type": "display_data",
          "data": {
            "text/html": [
              "\n",
              "     <input type=\"file\" id=\"files-19f96ab8-197d-4349-b954-47ebbc24df3d\" name=\"files[]\" multiple disabled\n",
              "        style=\"border:none\" />\n",
              "     <output id=\"result-19f96ab8-197d-4349-b954-47ebbc24df3d\">\n",
              "      Upload widget is only available when the cell has been executed in the\n",
              "      current browser session. Please rerun this cell to enable.\n",
              "      </output>\n",
              "      <script src=\"/nbextensions/google.colab/files.js\"></script> "
            ],
            "text/plain": [
              "<IPython.core.display.HTML object>"
            ]
          },
          "metadata": {}
        },
        {
          "output_type": "stream",
          "name": "stdout",
          "text": [
            "Saving mob-ilai.txt to mob-ilai (3).txt\n"
          ]
        }
      ]
    },
    {
      "cell_type": "code",
      "metadata": {
        "id": "nMnYh5jraZvk"
      },
      "source": [
        "def parse_file(text_file):\n",
        "    senders = []; messages = []; dates=[];times = []; timestamps=[]; directions=[];minutes=[];hours=[];\n",
        "\n",
        "    word_list=['מעלית','חכו']\n",
        "    f=open(chat_file,'r',encoding='utf8')\n",
        "    lines=f.readlines()\n",
        "    for i,line in enumerate(lines):\n",
        "        if ('/' in line[:4]) and is_date(line.split('-',1)[0].split(',',1)[0]):\n",
        "            date=line.split('-',1)[0].split(',',1)[0]\n",
        "            try:\n",
        "                time=line.split('-',1)[0].split(',',1)[1]\n",
        "            except:\n",
        "                print(line)\n",
        "            sender_message=line.split('-',1)[1]\n",
        "            separator=sender_message.find(':')\n",
        "            if separator==(-1):\n",
        "                continue\n",
        "            timestamp= line.split('-',1)[0]\n",
        "            sender=sender_message[:separator]\n",
        "            message=sender_message[separator+1:]\n",
        "\n",
        "            dates.append(date.strip())\n",
        "            times.append(time.strip())\n",
        "            #hr_mn=time.strip().split(':')\n",
        "            mnt=time.strip().split(':')[1]\n",
        "            minutes.append(int(mnt[:-3]))\n",
        "            hour=time.strip().split(':')[0]\n",
        "            if 'AM' in time or time.strip().startswith('0'):\n",
        "                direction='morning'\n",
        "            else:\n",
        "                direction='evening'\n",
        "                hour=int(hour)+12\n",
        "            hours.append(int(hour))\n",
        "            directions.append(direction)\n",
        "            senders.append(sender)\n",
        "            messages.append(message.replace('\\n',''))\n",
        "            timestamps.append(timestamp[:-1])\n",
        "\n",
        "\n",
        "        else: # it is not a new message but new line of previous message\n",
        "            new_msg=message+line\n",
        "            messages[-1]=new_msg\n",
        "\n",
        "\n",
        "    df = pd.DataFrame(zip(timestamps, dates, times,hours, minutes,directions, senders, messages), columns=['timestamps', 'date', 'time','hours','minutes','direction','sender', 'message'])\n",
        "    df['timestamps'] = pd.to_datetime(df.timestamps, format='%m/%d/%y, %I:%M %p')\n",
        "    df['time'] = pd.to_datetime(df.time, format='%I:%M %p').dt.time\n",
        "    df['date'] = pd.to_datetime(df.date, format='%m/%d/%y').dt.date\n",
        "\n",
        "    return df"
      ],
      "execution_count": null,
      "outputs": []
    },
    {
      "cell_type": "code",
      "metadata": {
        "colab": {
          "base_uri": "https://localhost:8080/"
        },
        "id": "q9d9p-eTak5U",
        "outputId": "137e9a86-0a27-44b8-ac53-a215096dafd2"
      },
      "source": [
        "from prettytable import PrettyTable\n",
        "import tabulate\n",
        "# source: https://www.stackvidhya.com/pretty-print-dataframe/\n",
        "pd.set_option('display.max_rows', None)\n",
        "pd.set_option('display.max_columns', None)\n",
        "pd.set_option('display.width', 1000)\n",
        "pd.set_option('display.colheader_justify', 'center')\n",
        "pd.set_option('display.precision', 3)\n",
        "\n",
        "df = parse_file(chat_file)\n",
        "\n",
        "\n",
        "#print(tabulate.tabulate(df, headers='keys', tablefmt='psql'))\n",
        "df.set_index(df['timestamps'])\n",
        "df.index=pd.to_datetime(df.index)\n",
        "#print(df.to_markdown(index=False)) \n",
        "print(df.head(20).to_markdown(index=False)) \n",
        "\n",
        "\n"
      ],
      "execution_count": null,
      "outputs": [
        {
          "output_type": "stream",
          "name": "stdout",
          "text": [
            "| timestamps          | date       | time     |   hours |   minutes | direction   | sender           | message                                                                                                                                                                           |\n",
            "|:--------------------|:-----------|:---------|--------:|----------:|:------------|:-----------------|:----------------------------------------------------------------------------------------------------------------------------------------------------------------------------------|\n",
            "| 2021-02-28 09:14:00 | 2021-02-28 | 09:14:00 |       9 |        14 | morning     | +972 54-338-2794 | בוקר טוב                                                                                                                                                                          |\n",
            "| 2021-02-28 09:14:00 | 2021-02-28 | 09:14:00 |       9 |        14 | morning     | +972 54-338-2794 | <Media omitted>                                                                                                                                                                   |\n",
            "| 2021-02-28 09:14:00 | 2021-02-28 | 09:14:00 |       9 |        14 | morning     | +972 54-338-2794 | <Media omitted>                                                                                                                                                                   |\n",
            "| 2021-02-28 09:14:00 | 2021-02-28 | 09:14:00 |       9 |        14 | morning     | +972 54-338-2794 | <Media omitted>                                                                                                                                                                   |\n",
            "| 2021-02-28 09:15:00 | 2021-02-28 | 09:15:00 |       9 |        15 | morning     | +972 54-338-2794 | https://chat.whatsapp.com/CLWalyzSoiJIGC3bJJJorR                                                                                                                                  |\n",
            "|                     |            |          |         |           |             |                  | נדגיש שקבוצת ווטסאפ זאת היא עבור משתמשי קו ת\"א צפון, למעבר לקבוצת ווטאסאפ ת\"א דרום ניתן ללחוץ על הלינק.                                                                           |\n",
            "| 2021-02-28 11:04:00 | 2021-02-28 | 11:04:00 |      11 |         4 | morning     | +972 52-480-4524 | היי הישיבה מלאה לחלוטין, אפשר בבקשה להגדיל את כמות המשתתפים?                                                                                                                      |\n",
            "| 2021-02-28 11:04:00 | 2021-02-28 | 11:04:00 |      11 |         4 | morning     | +972 54-756-0251 | 👆🏼                                                                                                                                                                              |\n",
            "| 2021-02-28 11:04:00 | 2021-02-28 | 11:04:00 |      11 |         4 | morning     | +972 50-373-7621 | we also have the problem                                                                                                                                                          |\n",
            "| 2021-02-28 11:04:00 | 2021-02-28 | 11:04:00 |      11 |         4 | morning     | +972 50-510-0120 | אי אפשר להיכנס                                                                                                                                                                    |\n",
            "| 2021-02-28 11:06:00 | 2021-02-28 | 11:06:00 |      11 |         6 | morning     | +972 54-310-8818 | +1                                                                                                                                                                                |\n",
            "| 2021-02-28 11:06:00 | 2021-02-28 | 11:06:00 |      11 |         6 | morning     | +972 50-510-0120 | מה עושים?                                                                                                                                                                         |\n",
            "| 2021-02-28 11:06:00 | 2021-02-28 | 11:06:00 |      11 |         6 | morning     | +972 52-480-4524 | 🤷🏽‍♂️                                                                                                                                                                             |\n",
            "| 2021-02-28 11:07:00 | 2021-02-28 | 11:07:00 |      11 |         7 | morning     | +972 54-287-8088 | הם לא מצליחים להגדיל כמות האורכים בזום, יהיה עוד הדרכה אז...                                                                                                                      |\n",
            "| 2021-02-28 11:08:00 | 2021-02-28 | 11:08:00 |      11 |         8 | morning     | +972 52-553-5049 | הם מקליטים את הפגישה וגם יעשו אחת נוספת היום למי שלא הצליח להתחבר                                                                                                                 |\n",
            "| 2021-02-28 11:08:00 | 2021-02-28 | 11:08:00 |      11 |         8 | morning     | +972 52-472-7372 | מקווה שההסעות  יהיו יותר מוצלחות מההדרכה                                                                                                                                          |\n",
            "| 2021-02-28 13:55:00 | 2021-02-28 | 13:55:00 |      13 |        55 | evening     | +972 52-553-5049 | בשעה 14:30 תיערך הדרכה נוספת ע״י GETT דרך הזום                                                                                                                                    |\n",
            "| 2021-02-28 13:55:00 | 2021-02-28 | 13:55:00 |      13 |        55 | evening     | +972 52-553-5049 | https://www.google.com/url?q=https://gett.zoom.us/j/86919947549?pwd%3DODFoQ2NoV3ZTYm40YktxTjRYL2ZaZz09&sa=D&source=calendar&ust=1614944807929000&usg=AOvVaw2HW1OEQgBRuAI6gVWKa_f6 |\n",
            "| 2021-02-28 14:29:00 | 2021-02-28 | 14:29:00 |      14 |        29 | evening     | +972 54-338-2794 | היי                                                                                                                                                                               |\n",
            "|                     |            |          |         |           |             |                  | מתחילים את ההדרכה עוד 2 דק.                                                                                                                                                       |\n",
            "| 2021-02-28 14:33:00 | 2021-02-28 | 14:33:00 |      14 |        33 | evening     | +972 52-592-7773 | אפשר קישור?                                                                                                                                                                       |\n",
            "| 2021-02-28 14:33:00 | 2021-02-28 | 14:33:00 |      14 |        33 | evening     | +972 54-476-7300 | קישור לזום                                                                                                                                                                        |\n"
          ]
        }
      ]
    },
    {
      "cell_type": "code",
      "metadata": {
        "colab": {
          "base_uri": "https://localhost:8080/"
        },
        "id": "UB7qIRktanXa",
        "outputId": "f4138a10-fc64-4b5a-86d1-c62d8b2f8032"
      },
      "source": [
        "laters=df[df['message'].str.contains('לחכות|דקה|חכו|מעלית')]\n",
        "#print(laters.to_markdown(index=False)) \n",
        "\n",
        "contain_words=df[df['message'].str.contains('לחכות|דקה|חכו|מעלית')]\n",
        "contain_words2=df['message'].str.contains('לחכות|דקה|חכו|מעלית')\n",
        "\n",
        "after_650=(df['hours']==6)       & (df['minutes']>50)\n",
        "before_730=df[(df['hours']==7)   & (df['minutes']<30)]\n",
        "# morning_range_7= (after_650 | before_730)\n",
        "\n",
        "after_750=(df['hours']==7)       & (df['minutes']>50)\n",
        "before_830=df[(df['hours']==8)   & (df['minutes']<30)]\n",
        "# morning_range_8= (after_750 | before_830)\n",
        "\n",
        "after_1650=df[(df['hours']==16)  & (df['minutes']>50)]\n",
        "before_1710=df[(df['hours']==17) & (df['minutes']<10)]\n",
        "# evening_range_17= (after_1650 | before_1710)\n",
        "\n",
        "\n",
        "after_1750=df[(df['hours']==17)  & (df['minutes']>50)]\n",
        "before_1810=df[(df['hours']==18) & (df['minutes']<10)]\n",
        "# evening_range_18= (after_1750 | before_1810)\n",
        "\n",
        "#result2= df[(contain_words2) & ((morning_range_7) | (morning_range_8) | (evening_range_17) | (evening_range_18))]\n",
        "# result=df[(df['message'].str.contains('לחכות|דקה|חכו|מעלית')) & \n",
        "#           (\n",
        "#               (after_650 | before_730)\n",
        "#             | (after_750 | before_830)\n",
        "#             | (after_1650 | before_1710)\n",
        "#             | (after_1750 | before_1810)\n",
        "#           )\n",
        "#           ]\n",
        "\n",
        "admins=['+972 50-201-2346', '+972 50-424-0266', '+972 50-571-4490', '+972 50-789-8030', '+972 52-854-5176', '+972 54-338-2794', '+972 54-658-1834']\n",
        "#admins_mask = df['sender']==(lambda x: any(item for item in selection if item in admins))\n",
        "\n",
        "\n",
        "\n",
        "laters=df[(df['message'].str.contains('לחכות|דקה|חכו|מעלית'))  &\n",
        "          (\n",
        "              ((df['hours']==6) & (df['minutes']>50)  | (df['hours']==7) & (df['minutes']<30))\n",
        "            | ((df['hours']==7) & (df['minutes']>50)  | (df['hours']==8) & (df['minutes']<30))\n",
        "            | ((df['hours']==16) & (df['minutes']>50) | (df['hours']==17) & (df['minutes']<10))\n",
        "            | ((df['hours']==17) & (df['minutes']>50) | (df['hours']==18) & (df['minutes']<10))\n",
        "          ) \n",
        "          ]\n",
        "\n",
        "\n",
        "\n",
        "#print(laters.to_markdown(index=True))"
      ],
      "execution_count": 215,
      "outputs": [
        {
          "output_type": "stream",
          "name": "stdout",
          "text": [
            "|                               | timestamps          | date       | time     |   hours |   minutes | direction   | sender              | message                                                                                        |\n",
            "|:------------------------------|:--------------------|:-----------|:---------|--------:|----------:|:------------|:--------------------|:-----------------------------------------------------------------------------------------------|\n",
            "| 1970-01-01 00:00:00.000000143 | 2021-03-02 08:09:00 | 2021-03-02 | 08:09:00 |       8 |         9 | morning     | +972 54-476-7300    | חכו בבקשה                                                                                      |\n",
            "| 1970-01-01 00:00:00.000000167 | 2021-03-03 07:14:00 | 2021-03-03 | 07:14:00 |       7 |        14 | morning     | טל גליקסמן מובילאיי | יכול להיות שאחר בדקה                                                                           |\n",
            "| 1970-01-01 00:00:00.000000225 | 2021-03-07 17:01:00 | 2021-03-07 | 17:01:00 |      17 |         1 | evening     | +972 54-756-0251    | אפשר לחכות לי דקה לגטי? במעלית                                                                 |\n",
            "| 1970-01-01 00:00:00.000000250 | 2021-03-08 07:15:00 | 2021-03-08 | 07:15:00 |       7 |        15 | morning     | +972 52-813-2114    | זה על בסיס כל הקודם זוכה? מה אני אמור לחכות עוד שעה בתחנה?                                     |\n",
            "| 1970-01-01 00:00:00.000000319 | 2021-03-08 17:02:00 | 2021-03-08 | 17:02:00 |      17 |         2 | evening     | +972 52-721-5599    | ואם מתווכחים על דקות אז כתבתי פה דקה לפני                                                      |\n",
            "| 1970-01-01 00:00:00.000000344 | 2021-03-09 07:15:00 | 2021-03-09 | 07:15:00 |       7 |        15 | morning     | טל גליקסמן מובילאיי | היי, ב7:12 הeta הפך מדקה ל7 דקות- אני חושבת שהוא עדיין לא עובד כל כך טוב                       |\n",
            "| 1970-01-01 00:00:00.000000387 | 2021-03-11 18:00:00 | 2021-03-11 | 18:00:00 |      18 |         0 | evening     | +972 58-666-9996    | אפשר לחכות דקה?                                                                                |\n",
            "| 1970-01-01 00:00:00.000000400 | 2021-03-14 08:19:00 | 2021-03-14 | 08:19:00 |       8 |        19 | morning     | +972 52-550-9152    | הפתרון זה לחכות שעה בחוץ 🤷🏽‍♀️ סהכ חויה ליום ראשון                                             |\n",
            "| 1970-01-01 00:00:00.000000505 | 2021-03-15 17:59:00 | 2021-03-15 | 17:59:00 |      17 |        59 | evening     | +972 52-642-8024    | במעלית שנייה מגיע                                                                              |\n",
            "| 1970-01-01 00:00:00.000000506 | 2021-03-15 17:59:00 | 2021-03-15 | 17:59:00 |      17 |        59 | evening     | +972 54-756-0251    | מתעכב דקה להסעה של 6. חכו בבקשה                                                                |\n",
            "| 1970-01-01 00:00:00.000000607 | 2021-03-17 16:59:00 | 2021-03-17 | 16:59:00 |      16 |        59 | evening     | +972 52-642-8024    | יש מישהי במעלית בדרך אליכם                                                                     |\n",
            "| 1970-01-01 00:00:00.000000636 | 2021-03-18 07:16:00 | 2021-03-18 | 07:16:00 |       7 |        16 | morning     | טל גליקסמן מובילאיי | חכו דקה                                                                                        |\n",
            "| 1970-01-01 00:00:00.000000678 | 2021-03-18 18:00:00 | 2021-03-18 | 18:00:00 |      18 |         0 | evening     | +972 50-742-9690    | אפשר לחכות אני שניה בחוץ                                                                       |\n",
            "| 1970-01-01 00:00:00.000000827 | 2021-03-24 18:00:00 | 2021-03-24 | 18:00:00 |      18 |         0 | evening     | +972 58-666-9996    | דקה מגיע                                                                                       |\n",
            "| 1970-01-01 00:00:00.000000884 | 2021-03-31 17:01:00 | 2021-03-31 | 17:01:00 |      17 |         1 | evening     | טל גליקסמן מובילאיי | נראה כאילו הנהג כבר עשר דקות במרחק דקה מפה                                                     |\n",
            "| 1970-01-01 00:00:00.000000885 | 2021-03-31 17:03:00 | 2021-03-31 | 17:03:00 |      17 |         3 | evening     | +972 50-571-4490    | היי הנהג מגיע לנק' האיסוף הראשונה עוד דקה                                                      |\n",
            "| 1970-01-01 00:00:00.000000927 | 2021-04-04 08:07:00 | 2021-04-04 | 08:07:00 |       8 |         7 | morning     | +972 58-666-9996    | מסכים.. שהמוניות יצאו בזמן שההסעה היתה אמורה להגיע ואז לא נצטרך לחכות                          |\n",
            "| 1970-01-01 00:00:00.000001123 | 2021-04-06 08:20:00 | 2021-04-06 | 08:20:00 |       8 |        20 | morning     | +972 50-629-1383    | גט בבקשה תענו!                                                                                 |\n",
            "|                               |                     |            |          |         |           |             |                     | לעלות איתו או לחכות למונית??                                                                   |\n",
            "| 1970-01-01 00:00:00.000001207 | 2021-04-06 16:59:00 | 2021-04-06 | 16:59:00 |      16 |        59 | evening     | +972 52-813-2114    | תחכו, במעלית                                                                                   |\n",
            "| 1970-01-01 00:00:00.000001383 | 2021-04-12 07:17:00 | 2021-04-12 | 07:17:00 |       7 |        17 | morning     | +972 58-666-9996    | תוכלו להגיד לו לחכות רגע?                                                                      |\n",
            "| 1970-01-01 00:00:00.000001495 | 2021-04-18 17:00:00 | 2021-04-18 | 17:00:00 |      17 |         0 | evening     | +972 54-466-6617    | חכו שנייה בראשי, מעלית                                                                         |\n",
            "| 1970-01-01 00:00:00.000001504 | 2021-04-18 17:03:00 | 2021-04-18 | 17:03:00 |      17 |         3 | evening     | +972 54-756-0251    | חכו לי שניה בגטי בבקשה                                                                         |\n",
            "| 1970-01-01 00:00:00.000001511 | 2021-04-19 07:27:00 | 2021-04-19 | 07:27:00 |       7 |        27 | morning     | +972 52-813-2114    | בוקר טוב, מישהו בהסעה של 7:00 אבל בנתיב המהיר?                                                 |\n",
            "|                               |                     |            |          |         |           |             |                     | איפה צריך לחכות?                                                                               |\n",
            "| 1970-01-01 00:00:00.000001539 | 2021-04-20 18:03:00 | 2021-04-20 | 18:03:00 |      18 |         3 | evening     | +972 50-510-0120    | חכו שניה מגיע לגטי                                                                             |\n",
            "| 1970-01-01 00:00:00.000001627 | 2021-04-22 17:07:00 | 2021-04-22 | 17:07:00 |      17 |         7 | evening     | +972 52-786-8032    | יוצאים עוד דקה                                                                                 |\n",
            "| 1970-01-01 00:00:00.000001632 | 2021-04-22 17:58:00 | 2021-04-22 | 17:58:00 |      17 |        58 | evening     | +972 52-851-5516    | אני במעלית חכו בבקשה בראשי🙏🏼                                                                 |\n",
            "| 1970-01-01 00:00:00.000001645 | 2021-04-25 18:01:00 | 2021-04-25 | 18:01:00 |      18 |         1 | evening     | +972 54-424-7424    | אוי פיספסתי אותכם חכו לי בגטי דקה                                                              |\n",
            "| 1970-01-01 00:00:00.000001648 | 2021-04-25 18:02:00 | 2021-04-25 | 18:02:00 |      18 |         2 | evening     | +972 54-438-3732    | לחכות לך? או את בגטי?                                                                          |\n",
            "| 1970-01-01 00:00:00.000001691 | 2021-04-26 17:00:00 | 2021-04-26 | 17:00:00 |      17 |         0 | evening     | +972 52-642-8024    | במעלית שנייה מגיע 😬                                                                           |\n",
            "| 1970-01-01 00:00:00.000001754 | 2021-05-02 18:01:00 | 2021-05-02 | 18:01:00 |      18 |         1 | evening     | +972 54-633-3125    | חכו לנו                                                                                        |\n",
            "| 1970-01-01 00:00:00.000001757 | 2021-05-02 18:02:00 | 2021-05-02 | 18:02:00 |      18 |         2 | evening     | +972 54-652-5353    | מישהו על ההסעה יכול לבקש מהאוטובוס לחכות?                                                      |\n",
            "| 1970-01-01 00:00:00.000001812 | 2021-05-03 07:18:00 | 2021-05-03 | 07:18:00 |       7 |        18 | morning     | אלי אורקם           | תחכו בבקשה                                                                                     |\n",
            "| 1970-01-01 00:00:00.000001934 | 2021-05-05 17:01:00 | 2021-05-05 | 17:01:00 |      17 |         1 | evening     | +972 52-550-9152    | חכו לי בבקשה שתי דקות                                                                          |\n",
            "| 1970-01-01 00:00:00.000001937 | 2021-05-05 17:59:00 | 2021-05-05 | 17:59:00 |      17 |        59 | evening     | +972 54-777-9142    | תחכו דקה בבקשה                                                                                 |\n",
            "| 1970-01-01 00:00:00.000001946 | 2021-05-06 07:10:00 | 2021-05-06 | 07:10:00 |       7 |        10 | morning     | +972 54-801-3883    | מתעכב דקה                                                                                      |\n",
            "| 1970-01-01 00:00:00.000001949 | 2021-05-06 17:00:00 | 2021-05-06 | 17:00:00 |      17 |         0 | evening     | +972 52-642-8024    | שנייה במעלית לא לנסוע 😬                                                                       |\n",
            "| 1970-01-01 00:00:00.000001973 | 2021-05-09 16:58:00 | 2021-05-09 | 16:58:00 |      16 |        58 | evening     | +972 52-480-4524    | אני במעלית                                                                                     |\n",
            "| 1970-01-01 00:00:00.000001974 | 2021-05-09 16:59:00 | 2021-05-09 | 16:59:00 |      16 |        59 | evening     | +972 54-424-7424    | במעלית                                                                                         |\n",
            "| 1970-01-01 00:00:00.000001989 | 2021-05-10 17:59:00 | 2021-05-10 | 17:59:00 |      17 |        59 | evening     | +972 52-721-5599    | במעלית עולה בME1                                                                               |\n",
            "| 1970-01-01 00:00:00.000001990 | 2021-05-10 17:59:00 | 2021-05-10 | 17:59:00 |      17 |        59 | evening     | +972 54-481-4114    | מגיע דקה me1                                                                                   |\n",
            "| 1970-01-01 00:00:00.000001994 | 2021-05-10 18:03:00 | 2021-05-10 | 18:03:00 |      18 |         3 | evening     | +972 54-770-4466    | חכו עם ההסעה מחוץ לגטי בבקשה                                                                   |\n",
            "| 1970-01-01 00:00:00.000002015 | 2021-05-11 17:01:00 | 2021-05-11 | 17:01:00 |      17 |         1 | evening     | +972 54-756-0251    | במעלית בגטי חכו לי שניה בבקשה                                                                  |\n",
            "| 1970-01-01 00:00:00.000002016 | 2021-05-11 17:04:00 | 2021-05-11 | 17:04:00 |      17 |         4 | evening     | +972 52-480-4524    | מעלית בגטי                                                                                     |\n",
            "| 1970-01-01 00:00:00.000002073 | 2021-05-18 08:29:00 | 2021-05-18 | 08:29:00 |       8 |        29 | morning     | +972 50-471-1226    | ואם היה מיקום הייתי יודע שהוא לפניי ומבקש שיחכו                                                |\n",
            "|                               |                     |            |          |         |           |             |                     | למה אין מיקום ולמה לא מוודאים שמי שרשום עולה                                                   |\n",
            "| 1970-01-01 00:00:00.000002093 | 2021-05-19 08:26:00 | 2021-05-19 | 08:26:00 |       8 |        26 | morning     | +972 54-756-0251    | חכו לי שניה שאול אני ברמזור                                                                    |\n",
            "| 1970-01-01 00:00:00.000002133 | 2021-05-23 16:59:00 | 2021-05-23 | 16:59:00 |      16 |        59 | evening     | +972 58-669-8565    | בדרך ל me1                                                                                     |\n",
            "|                               |                     |            |          |         |           |             |                     | בבקשה לחכות דקה                                                                                |\n",
            "| 1970-01-01 00:00:00.000002145 | 2021-05-24 16:59:00 | 2021-05-24 | 16:59:00 |      16 |        59 | evening     | +972 52-813-2114    | חכו אנחנו במעלית                                                                               |\n",
            "| 1970-01-01 00:00:00.000002146 | 2021-05-24 16:59:00 | 2021-05-24 | 16:59:00 |      16 |        59 | evening     | +972 54-991-7012    | מעלית                                                                                          |\n",
            "| 1970-01-01 00:00:00.000002150 | 2021-05-24 18:01:00 | 2021-05-24 | 18:01:00 |      18 |         1 | evening     | +972 50-510-0120    | חכו רגע בגטי                                                                                   |\n",
            "| 1970-01-01 00:00:00.000002163 | 2021-05-25 07:23:00 | 2021-05-25 | 07:23:00 |       7 |        23 | morning     | +972 54-214-2632    | אפשר לחכות שניה                                                                                |\n",
            "| 1970-01-01 00:00:00.000002171 | 2021-05-25 07:53:00 | 2021-05-25 | 07:53:00 |       7 |        53 | morning     | +972 50-789-8030    | המונית מגיעה בעוד דקה                                                                          |\n",
            "|                               |                     |            |          |         |           |             |                     | מס' רישוי- 7483226                                                                             |\n",
            "| 1970-01-01 00:00:00.000002174 | 2021-05-25 08:21:00 | 2021-05-25 | 08:21:00 |       8 |        21 | morning     | +972 58-666-9996    | תחכו שניה                                                                                      |\n",
            "| 1970-01-01 00:00:00.000002187 | 2021-05-25 17:01:00 | 2021-05-25 | 17:01:00 |      17 |         1 | evening     | +972 54-487-9841    | מאחר בדקה                                                                                      |\n",
            "| 1970-01-01 00:00:00.000002204 | 2021-05-26 17:00:00 | 2021-05-26 | 17:00:00 |      17 |         0 | evening     | +972 50-996-2139    | מגיע עוד דקה                                                                                   |\n",
            "| 1970-01-01 00:00:00.000002205 | 2021-05-26 18:02:00 | 2021-05-26 | 18:02:00 |      18 |         2 | evening     | +972 54-756-0251    | חכו לי שניה בגטי. בבקשה , במעלית                                                               |\n",
            "| 1970-01-01 00:00:00.000002291 | 2021-05-31 18:00:00 | 2021-05-31 | 18:00:00 |      18 |         0 | evening     | +972 54-310-8818    | אני במעלית של ראשי. דקה מגיע                                                                   |\n",
            "| 1970-01-01 00:00:00.000002301 | 2021-06-01 08:24:00 | 2021-06-01 | 08:24:00 |       8 |        24 | morning     | +972 54-771-1642    | יש מצב לבקש ממנו לחכות בבאה?                                                                   |\n",
            "| 1970-01-01 00:00:00.000002324 | 2021-06-01 17:02:00 | 2021-06-01 | 17:02:00 |      17 |         2 | evening     | +972 54-772-6322    | אפשר להמתין רגע בגטי אני במעלית                                                                |\n",
            "| 1970-01-01 00:00:00.000002326 | 2021-06-01 17:02:00 | 2021-06-01 | 17:02:00 |      17 |         2 | evening     | +972 50-996-2139    | חכו רגע, אני מגיע מme1                                                                         |\n",
            "| 1970-01-01 00:00:00.000002357 | 2021-06-03 17:04:00 | 2021-06-03 | 17:04:00 |      17 |         4 | evening     | +972 54-756-0251    | יש מצב לחכות דקה בגטי? או כבר עברתם?                                                           |\n",
            "| 1970-01-01 00:00:00.000002374 | 2021-06-06 18:00:00 | 2021-06-06 | 18:00:00 |      18 |         0 | evening     | +972 58-666-9996    | תוכלו לחכות דקה?                                                                               |\n",
            "| 1970-01-01 00:00:00.000002375 | 2021-06-06 18:00:00 | 2021-06-06 | 18:00:00 |      18 |         0 | evening     | +972 54-771-1642    | חכו בבקשה, במעלית                                                                              |\n",
            "| 1970-01-01 00:00:00.000002435 | 2021-06-08 16:59:00 | 2021-06-08 | 16:59:00 |      16 |        59 | evening     | +972 54-424-7424    | במעלית חכו דקה בראשי                                                                           |\n",
            "| 1970-01-01 00:00:00.000002444 | 2021-06-08 18:00:00 | 2021-06-08 | 18:00:00 |      18 |         0 | evening     | +972 50-832-4069    | תמתינו לי בגטי דקה בבקשה                                                                       |\n",
            "| 1970-01-01 00:00:00.000002445 | 2021-06-08 18:03:00 | 2021-06-08 | 18:03:00 |      18 |         3 | evening     | +972 54-772-6322    | תמתינו דקה בגטי בבקשה                                                                          |\n",
            "| 1970-01-01 00:00:00.000002476 | 2021-06-09 17:01:00 | 2021-06-09 | 17:01:00 |      17 |         1 | evening     | +972 50-794-2363    | תחכו בבקשה ג.ט.י  אני במעלית                                                                   |\n",
            "| 1970-01-01 00:00:00.000002484 | 2021-06-09 18:00:00 | 2021-06-09 | 18:00:00 |      18 |         0 | evening     | +972 54-581-9831    | כבר מגיע, במעלית                                                                               |\n",
            "| 1970-01-01 00:00:00.000002485 | 2021-06-09 18:00:00 | 2021-06-09 | 18:00:00 |      18 |         0 | evening     | +972 50-510-0120    | חכו שניה בגטי                                                                                  |\n",
            "| 1970-01-01 00:00:00.000002489 | 2021-06-10 07:22:00 | 2021-06-10 | 07:22:00 |       7 |        22 | morning     | +972 54-756-0251    | אפשר לחכות לי דקה בשאול המלך? חוצה את הכביש                                                    |\n",
            "| 1970-01-01 00:00:00.000002510 | 2021-06-13 07:21:00 | 2021-06-13 | 07:21:00 |       7 |        21 | morning     | טל גליקסמן מובילאיי | חכו קנייה                                                                                      |\n",
            "| 1970-01-01 00:00:00.000002519 | 2021-06-13 17:59:00 | 2021-06-13 | 17:59:00 |      17 |        59 | evening     | +972 54-424-7424    | דקה מגיעה                                                                                      |\n",
            "| 1970-01-01 00:00:00.000002543 | 2021-06-14 17:00:00 | 2021-06-14 | 17:00:00 |      17 |         0 | evening     | +972 54-438-3732    | במעלית חכו 😬                                                                                  |\n",
            "| 1970-01-01 00:00:00.000002579 | 2021-06-15 17:02:00 | 2021-06-15 | 17:02:00 |      17 |         2 | evening     | +972 54-770-4466    | במעלית בגטי                                                                                    |\n",
            "| 1970-01-01 00:00:00.000002581 | 2021-06-15 17:04:00 | 2021-06-15 | 17:04:00 |      17 |         4 | evening     | +972 52-650-5135    | תודה. חצי דקה שם                                                                               |\n",
            "| 1970-01-01 00:00:00.000002617 | 2021-06-16 17:59:00 | 2021-06-16 | 17:59:00 |      17 |        59 | evening     | +972 52-642-8024    | במעלית מגיע 😬                                                                                 |\n",
            "| 1970-01-01 00:00:00.000002644 | 2021-06-17 08:23:00 | 2021-06-17 | 08:23:00 |       8 |        23 | morning     | +972 54-771-1642    | אפשר לחכות איפשהו? אנחנו הולכים לכיוון גן העיר                                                 |\n",
            "| 1970-01-01 00:00:00.000002665 | 2021-06-17 17:59:00 | 2021-06-17 | 17:59:00 |      17 |        59 | evening     | +972 52-858-1557    | ראשי חכו חצי דקה במעלית                                                                        |\n",
            "| 1970-01-01 00:00:00.000002773 | 2021-06-21 16:59:00 | 2021-06-21 | 16:59:00 |      16 |        59 | evening     | +972 58-669-8565    | דקה                                                                                            |\n",
            "| 1970-01-01 00:00:00.000002775 | 2021-06-21 17:02:00 | 2021-06-21 | 17:02:00 |      17 |         2 | evening     | +972 50-510-0120    | חכו שניה בגטי                                                                                  |\n",
            "| 1970-01-01 00:00:00.000002786 | 2021-06-21 17:59:00 | 2021-06-21 | 17:59:00 |      17 |        59 | evening     | +972 54-652-5353    | אפשר לבקש מהנהג לחכות דקה?                                                                     |\n",
            "| 1970-01-01 00:00:00.000002834 | 2021-06-22 18:09:00 | 2021-06-22 | 18:09:00 |      18 |         9 | evening     | +972 50-373-7621    | שמעו זה קורה הרבה יותר מדי. יכולים ליהיות מקרים חריגים מדי פעם, אבל לא בתדירות כזו.            |\n",
            "|                               |                     |            |          |         |           |             |                     | במיוחד שיש נהגים שלא מחכים אפילו חצי דקה ויוצאים בלי לבדוק שכולם הגיעו.                        |\n",
            "| 1970-01-01 00:00:00.000002845 | 2021-06-23 07:22:00 | 2021-06-23 | 07:22:00 |       7 |        22 | morning     | ניב מדמח            | איחרתי בחצי דקה, הנהג עקף אותי..                                                               |\n",
            "| 1970-01-01 00:00:00.000002854 | 2021-06-23 16:59:00 | 2021-06-23 | 16:59:00 |      16 |        59 | evening     | +972 54-424-7424    | במעלית, חכו דקה                                                                                |\n",
            "| 1970-01-01 00:00:00.000002855 | 2021-06-23 17:03:00 | 2021-06-23 | 17:03:00 |      17 |         3 | evening     | +972 54-756-0251    | חכו שניה בגטי בבקשה                                                                            |\n",
            "| 1970-01-01 00:00:00.000002873 | 2021-06-24 08:17:00 | 2021-06-24 | 08:17:00 |       8 |        17 | morning     | +972 54-310-8818    | תחכו דקה בפנקס בבקשה                                                                           |\n",
            "| 1970-01-01 00:00:00.000002875 | 2021-06-24 08:21:00 | 2021-06-24 | 08:21:00 |       8 |        21 | morning     | +972 52-786-8032    | תחכן דקה באבן גבירול פרישמן בבקשה                                                              |\n",
            "| 1970-01-01 00:00:00.000002901 | 2021-06-27 18:00:00 | 2021-06-27 | 18:00:00 |      18 |         0 | evening     | +972 54-481-4114    | חצי דקה מגיע me1                                                                               |\n",
            "| 1970-01-01 00:00:00.000002907 | 2021-06-28 16:55:00 | 2021-06-28 | 16:55:00 |      16 |        55 | evening     | +972 50-471-1226    | היי אפשר שנייה לחכות בראשי                                                                     |\n",
            "|                               |                     |            |          |         |           |             |                     | Saarlevi                                                                                       |\n",
            "| 1970-01-01 00:00:00.000002913 | 2021-06-28 18:01:00 | 2021-06-28 | 18:01:00 |      18 |         1 | evening     | +972 52-744-4511    | בבקשה חכו לי דקה, במעלית של גטי                                                                |\n",
            "| 1970-01-01 00:00:00.000002917 | 2021-06-29 07:17:00 | 2021-06-29 | 07:17:00 |       7 |        17 | morning     | +972 54-481-4114    | גן העיר מגיע חצי דקה                                                                           |\n",
            "| 1970-01-01 00:00:00.000002929 | 2021-06-29 17:01:00 | 2021-06-29 | 17:01:00 |      17 |         1 | evening     | +972 54-762-1791    | אפשר לחכות דקה?🙏                                                                              |\n",
            "| 1970-01-01 00:00:00.000002932 | 2021-06-29 17:03:00 | 2021-06-29 | 17:03:00 |      17 |         3 | evening     | +972 50-901-0837    | היי, הנהג ממתין עד דקה בנק' האיסוף הראשונה, הנהג נמצא בדרכו לנק' האיסוף השנייה- קריית המדע     |\n",
            "| 1970-01-01 00:00:00.000002937 | 2021-06-29 18:02:00 | 2021-06-29 | 18:02:00 |      18 |         2 | evening     | +972 54-772-6322    | במעלית                                                                                         |\n",
            "| 1970-01-01 00:00:00.000002938 | 2021-06-29 18:02:00 | 2021-06-29 | 18:02:00 |      18 |         2 | evening     | +972 54-772-6322    | דקה בבקשה                                                                                      |\n",
            "| 1970-01-01 00:00:00.000002954 | 2021-06-30 07:17:00 | 2021-06-30 | 07:17:00 |       7 |        17 | morning     | +972 58-666-9996    | אתם יכולים לחכות?                                                                              |\n",
            "| 1970-01-01 00:00:00.000002955 | 2021-06-30 17:04:00 | 2021-06-30 | 17:04:00 |      17 |         4 | evening     | +972 58-662-9869    | רגע אחד מגיעה                                                                                  |\n",
            "|                               |                     |            |          |         |           |             |                     | מעלית התעכבה                                                                                   |\n",
            "| 1970-01-01 00:00:00.000002956 | 2021-07-01 08:25:00 | 2021-07-01 | 08:25:00 |       8 |        25 | morning     | +972 58-722-1213    | בוקר טוב. חכו אותי בבקשה בקפלן. שני דקות אני מכווה.                                            |\n",
            "| 1970-01-01 00:00:00.000002958 | 2021-07-01 17:59:00 | 2021-07-01 | 17:59:00 |      17 |        59 | evening     | זיו מובילאיי        | חכו בבקשה.במעלית                                                                               |\n",
            "| 1970-01-01 00:00:00.000002977 | 2021-07-04 18:00:00 | 2021-07-04 | 18:00:00 |      18 |         0 | evening     | +972 50-373-7621    | במעלית                                                                                         |\n",
            "| 1970-01-01 00:00:00.000002978 | 2021-07-04 18:01:00 | 2021-07-04 | 18:01:00 |      18 |         1 | evening     | +972 54-756-0251    | במעלית בגטי                                                                                    |\n",
            "| 1970-01-01 00:00:00.000002984 | 2021-07-05 08:22:00 | 2021-07-05 | 08:22:00 |       8 |        22 | morning     | +972 52-526-9693    | תחכו דקה בגן העיר                                                                              |\n",
            "| 1970-01-01 00:00:00.000002995 | 2021-07-05 17:05:00 | 2021-07-05 | 17:05:00 |      17 |         5 | evening     | +972 58-669-8565    | דקה                                                                                            |\n",
            "| 1970-01-01 00:00:00.000003032 | 2021-07-06 16:59:00 | 2021-07-06 | 16:59:00 |      16 |        59 | evening     | +972 58-669-8565    | דקה במעלית                                                                                     |\n",
            "| 1970-01-01 00:00:00.000003045 | 2021-07-07 17:01:00 | 2021-07-07 | 17:01:00 |      17 |         1 | evening     | +972 52-642-8024    | חכו לי בבקשה בגטי =)                                                                           |\n",
            "| 1970-01-01 00:00:00.000003063 | 2021-07-08 07:26:00 | 2021-07-08 | 07:26:00 |       7 |        26 | morning     | +972 54-658-1834    | לפי ההסכם בין גט למובילאי הנהג מחכה דקה, במידה ואין נוסעים שמגיעים הוא ממשיך לתחנת האיסוף הבאה |\n",
            "| 1970-01-01 00:00:00.000003076 | 2021-07-12 18:01:00 | 2021-07-12 | 18:01:00 |      18 |         1 | evening     | +972 52-744-4511    | חכו לי דקה, במעלית של גטי                                                                      |\n",
            "| 1970-01-01 00:00:00.000003083 | 2021-07-13 07:12:00 | 2021-07-13 | 07:12:00 |       7 |        12 | morning     | +972 58-669-8565    | בבקשה תפעילו את המיקום של הנהג . ה eta מאד לא מדייק .                                          |\n",
            "|                               |                     |            |          |         |           |             |                     | במקרה של היום 6 דקות האחרונות חלפו ב דקה וחצי                                                  |\n",
            "| 1970-01-01 00:00:00.000003100 | 2021-07-13 08:21:00 | 2021-07-13 | 08:21:00 |       8 |        21 | morning     | +972 58-555-0090    | אפשר לחכות דקה בעיריה? אני ברמזור                                                              |\n",
            "| 1970-01-01 00:00:00.000003103 | 2021-07-13 17:00:00 | 2021-07-13 | 17:00:00 |      17 |         0 | evening     | +972 54-481-4114    | מאחר me1 דקה                                                                                   |\n",
            "| 1970-01-01 00:00:00.000003123 | 2021-07-14 18:01:00 | 2021-07-14 | 18:01:00 |      18 |         1 | evening     | +972 50-373-7621    | במעלית חכו דקה בבקשה                                                                           |\n",
            "| 1970-01-01 00:00:00.000003126 | 2021-07-15 07:14:00 | 2021-07-15 | 07:14:00 |       7 |        14 | morning     | +972 52-851-5516    | חכו תי אני ברמסור                                                                              |\n",
            "| 1970-01-01 00:00:00.000003199 | 2021-07-19 17:00:00 | 2021-07-19 | 17:00:00 |      17 |         0 | evening     | +972 52-550-9152    | במעלית                                                                                         |\n",
            "| 1970-01-01 00:00:00.000003200 | 2021-07-19 17:00:00 | 2021-07-19 | 17:00:00 |      17 |         0 | evening     | +972 52-550-9152    | דקה שם תחכו                                                                                    |\n",
            "| 1970-01-01 00:00:00.000003217 | 2021-07-20 17:00:00 | 2021-07-20 | 17:00:00 |      17 |         0 | evening     | +972 50-373-7621    | אני במעלית מגיע עוד דקה                                                                        |\n",
            "| 1970-01-01 00:00:00.000003230 | 2021-07-22 07:19:00 | 2021-07-22 | 07:19:00 |       7 |        19 | morning     | +972 52-786-8032    | אהלן, אפשר לבקש מהנהג לחכות דקה בקפלן/ האלוף מנדלר? ממש הקדים היום.                            |\n",
            "| 1970-01-01 00:00:00.000003304 | 2021-07-27 07:17:00 | 2021-07-27 | 07:17:00 |       7 |        17 | morning     | +972 54-481-4114    | גן העיר מגיע חצי דקה                                                                           |\n",
            "| 1970-01-01 00:00:00.000003348 | 2021-07-28 17:00:00 | 2021-07-28 | 17:00:00 |      17 |         0 | evening     | מאיר דמוזה מובילאיי | עוד דקה מגיע                                                                                   |\n",
            "| 1970-01-01 00:00:00.000003353 | 2021-07-28 18:00:00 | 2021-07-28 | 18:00:00 |      18 |         0 | evening     | +972 50-373-7621    | במעלית חכו דקה בבקשה                                                                           |\n",
            "| 1970-01-01 00:00:00.000003354 | 2021-07-28 18:00:00 | 2021-07-28 | 18:00:00 |      18 |         0 | evening     | ניב מדמח            | חכו רגע                                                                                        |\n",
            "| 1970-01-01 00:00:00.000003363 | 2021-07-29 17:59:00 | 2021-07-29 | 17:59:00 |      17 |        59 | evening     | +972 50-301-9310    | בבקשה חכו דקה אני במעלית                                                                       |\n",
            "| 1970-01-01 00:00:00.000003408 | 2021-08-02 17:02:00 | 2021-08-02 | 17:02:00 |      17 |         2 | evening     | +972 52-550-9152    | חכו לי במעלית                                                                                  |\n",
            "| 1970-01-01 00:00:00.000003463 | 2021-08-03 18:02:00 | 2021-08-03 | 18:02:00 |      18 |         2 | evening     | +972 54-756-0251    | במעלית בגטי                                                                                    |\n",
            "| 1970-01-01 00:00:00.000003464 | 2021-08-03 18:02:00 | 2021-08-03 | 18:02:00 |      18 |         2 | evening     | +972 54-756-0251    | חכו לי שניה בבקשה                                                                              |\n",
            "| 1970-01-01 00:00:00.000003494 | 2021-08-04 16:59:00 | 2021-08-04 | 16:59:00 |      16 |        59 | evening     | +972 52-642-8024    | במעלית 😬                                                                                      |\n",
            "| 1970-01-01 00:00:00.000003541 | 2021-08-08 16:59:00 | 2021-08-08 | 16:59:00 |      16 |        59 | evening     | +972 50-459-5892    | חכו בבקשה דקה אחת                                                                              |\n",
            "| 1970-01-01 00:00:00.000003544 | 2021-08-08 17:01:00 | 2021-08-08 | 17:01:00 |      17 |         1 | evening     | +972 54-777-3315    | חכו דקה בגטי בבקשה                                                                             |\n",
            "| 1970-01-01 00:00:00.000003553 | 2021-08-09 18:00:00 | 2021-08-09 | 18:00:00 |      18 |         0 | evening     | +972 54-481-4114    | Me1 מגיע דקה                                                                                   |\n",
            "| 1970-01-01 00:00:00.000003554 | 2021-08-09 18:00:00 | 2021-08-09 | 18:00:00 |      18 |         0 | evening     | +972 52-744-4511    | חכו לי דקה, גטי...                                                                             |\n",
            "| 1970-01-01 00:00:00.000003571 | 2021-08-11 07:28:00 | 2021-08-11 | 07:28:00 |       7 |        28 | morning     | +972 50-571-4490    | היי הנהג עוד דקה מגיע לתחנת רכבת השלום                                                         |\n",
            "| 1970-01-01 00:00:00.000003582 | 2021-08-11 16:59:00 | 2021-08-11 | 16:59:00 |      16 |        59 | evening     | +972 54-642-6404    | תמתינו דקה                                                                                     |\n",
            "| 1970-01-01 00:00:00.000003591 | 2021-08-12 08:19:00 | 2021-08-12 | 08:19:00 |       8 |        19 | morning     | +972 54-310-8818    | אפשר בבקשה לחכוץ דקה בפנקס                                                                     |\n",
            "| 1970-01-01 00:00:00.000003600 | 2021-08-12 17:00:00 | 2021-08-12 | 17:00:00 |      17 |         0 | evening     | +972 54-756-0251    | גטי מעלית, חכו לי שניה                                                                         |\n",
            "| 1970-01-01 00:00:00.000003618 | 2021-08-15 17:01:00 | 2021-08-15 | 17:01:00 |      17 |         1 | evening     | +972 54-756-0251    | אפשר לחכות לי דקה בגטי במעלית                                                                  |\n",
            "| 1970-01-01 00:00:00.000003631 | 2021-08-16 08:17:00 | 2021-08-16 | 08:17:00 |       8 |        17 | morning     | +972 54-756-0251    | אפשר בבקשה לחכות לי דקה בנורדאו פנקב                                                           |\n",
            "| 1970-01-01 00:00:00.000003638 | 2021-08-16 16:59:00 | 2021-08-16 | 16:59:00 |      16 |        59 | evening     | +972 54-642-6404    | חכו דקה בבקשה, אני במעלית :)                                                                   |\n",
            "| 1970-01-01 00:00:00.000003661 | 2021-08-17 18:00:00 | 2021-08-17 | 18:00:00 |      18 |         0 | evening     | +972 50-373-7621    | במעלית                                                                                         |\n",
            "| 1970-01-01 00:00:00.000003664 | 2021-08-17 18:03:00 | 2021-08-17 | 18:03:00 |      18 |         3 | evening     | +972 50-510-0120    | חכו רגע                                                                                        |\n",
            "| 1970-01-01 00:00:00.000003683 | 2021-08-19 07:24:00 | 2021-08-19 | 07:24:00 |       7 |        24 | morning     | +972 52-397-7770    | חכו דקה!                                                                                       |\n",
            "| 1970-01-01 00:00:00.000003684 | 2021-08-19 07:24:00 | 2021-08-19 | 07:24:00 |       7 |        24 | morning     | +972 52-874-8724    | אם אפשר לחכות לי דקה בעבר בעזריאלי                                                             |\n",
            "| 1970-01-01 00:00:00.000003691 | 2021-08-19 16:57:00 | 2021-08-19 | 16:57:00 |      16 |        57 | evening     | +972 54-642-6404    | דקה מגיע - במעלית :)                                                                           |\n",
            "| 1970-01-01 00:00:00.000003732 | 2021-08-23 17:02:00 | 2021-08-23 | 17:02:00 |      17 |         2 | evening     | +972 54-756-0251    | במעלית בגטי חכו לי שניה בבקשה                                                                  |\n",
            "| 1970-01-01 00:00:00.000003752 | 2021-08-24 16:58:00 | 2021-08-24 | 16:58:00 |      16 |        58 | evening     | +972 54-642-6404    | חכו דקה בבקשה, במעלית                                                                          |\n",
            "| 1970-01-01 00:00:00.000003754 | 2021-08-24 17:02:00 | 2021-08-24 | 17:02:00 |      17 |         2 | evening     | +972 54-756-0251    | מעלית בגטי חכו שניה בבקשה                                                                      |\n",
            "| 1970-01-01 00:00:00.000003755 | 2021-08-24 17:59:00 | 2021-08-24 | 17:59:00 |      17 |        59 | evening     | +972 52-471-1336    | תוכלו בבקשה להמתין שנייה במעלית                                                                |\n",
            "| 1970-01-01 00:00:00.000003764 | 2021-08-26 18:00:00 | 2021-08-26 | 18:00:00 |      18 |         0 | evening     | +972 54-777-3315    | חכו שניה בבקשה בגטי 2                                                                          |\n",
            "| 1970-01-01 00:00:00.000003801 | 2021-08-30 16:59:00 | 2021-08-30 | 16:59:00 |      16 |        59 | evening     | +972 54-642-6404    | תמתינו דקה, במעלית 😅                                                                          |\n",
            "| 1970-01-01 00:00:00.000003802 | 2021-08-30 16:59:00 | 2021-08-30 | 16:59:00 |      16 |        59 | evening     | +972 52-642-8024    | דקה מצעכב 😬                                                                                   |\n",
            "| 1970-01-01 00:00:00.000003803 | 2021-08-30 17:00:00 | 2021-08-30 | 17:00:00 |      17 |         0 | evening     | +972 52-550-9152    | תחכו כמה דקות בראשי                                                                            |\n",
            "| 1970-01-01 00:00:00.000003844 | 2021-09-02 07:20:00 | 2021-09-02 | 07:20:00 |       7 |        20 | morning     | +972 52-890-4889    | אפשר לחכות רגע בלונדון מיניסטור?                                                               |\n",
            "| 1970-01-01 00:00:00.000003846 | 2021-09-02 07:24:00 | 2021-09-02 | 07:24:00 |       7 |        24 | morning     | +972 52-786-8032    | אפשר לחכות בבקשה 2 דקות בירידה לאילון? התחנה האחרונה, תודה.                                    |\n",
            "| 1970-01-01 00:00:00.000003849 | 2021-09-02 17:00:00 | 2021-09-02 | 17:00:00 |      17 |         0 | evening     | +972 54-642-6404    | חכו דקה בבקשהההה אני בדרך                                                                      |\n",
            "| 1970-01-01 00:00:00.000003900 | 2021-09-12 17:00:00 | 2021-09-12 | 17:00:00 |      17 |         0 | evening     | +972 54-642-6404    | חצי דקה מגיע                                                                                   |\n",
            "| 1970-01-01 00:00:00.000003926 | 2021-09-13 18:00:00 | 2021-09-13 | 18:00:00 |      18 |         0 | evening     | +972 52-786-8032    | לכן דקה בבקשה בגטי                                                                             |\n",
            "| 1970-01-01 00:00:00.000003927 | 2021-09-13 18:00:00 | 2021-09-13 | 18:00:00 |      18 |         0 | evening     | +972 52-786-8032    | במעלית                                                                                         |\n",
            "| 1970-01-01 00:00:00.000003928 | 2021-09-13 18:00:00 | 2021-09-13 | 18:00:00 |      18 |         0 | evening     | +972 52-526-9693    | דקה בראשי🙏                                                                                    |\n",
            "| 1970-01-01 00:00:00.000004021 | 2021-09-23 16:57:00 | 2021-09-23 | 16:57:00 |      16 |        57 | evening     | +972 54-642-6404    | בדרך דקה :)                                                                                    |\n",
            "| 1970-01-01 00:00:00.000004022 | 2021-09-23 16:59:00 | 2021-09-23 | 16:59:00 |      16 |        59 | evening     | +972 50-301-9310    | בבקשה חכו דקה בראשי                                                                            |\n",
            "| 1970-01-01 00:00:00.000004023 | 2021-09-23 17:00:00 | 2021-09-23 | 17:00:00 |      17 |         0 | evening     | +972 52-642-8024    | חכו לי 😬😬😬                                                                                  |\n",
            "| 1970-01-01 00:00:00.000004059 | 2021-09-29 17:59:00 | 2021-09-29 | 17:59:00 |      17 |        59 | evening     | +972 54-771-1642    | במעלית                                                                                         |\n",
            "| 1970-01-01 00:00:00.000004060 | 2021-09-29 18:01:00 | 2021-09-29 | 18:01:00 |      18 |         1 | evening     | +972 54-481-4114    | מגיע me1 דקה                                                                                   |\n",
            "| 1970-01-01 00:00:00.000004061 | 2021-09-29 18:02:00 | 2021-09-29 | 18:02:00 |      18 |         2 | evening     | +972 52-550-9152    | במעלית גטי                                                                                     |\n",
            "| 1970-01-01 00:00:00.000004090 | 2021-10-03 16:59:00 | 2021-10-03 | 16:59:00 |      16 |        59 | evening     | +972 58-666-9996    | דקה מגיע                                                                                       |\n",
            "| 1970-01-01 00:00:00.000004108 | 2021-10-04 18:00:00 | 2021-10-04 | 18:00:00 |      18 |         0 | evening     | +972 52-786-8032    | חכו לי בגטי בבקשה                                                                              |\n",
            "| 1970-01-01 00:00:00.000004109 | 2021-10-04 18:00:00 | 2021-10-04 | 18:00:00 |      18 |         0 | evening     | +972 52-786-8032    | מעלית                                                                                          |\n",
            "| 1970-01-01 00:00:00.000004113 | 2021-10-05 16:59:00 | 2021-10-05 | 16:59:00 |      16 |        59 | evening     | +972 50-471-1226    | אפשר שניה לחכות                                                                                |\n",
            "| 1970-01-01 00:00:00.000004114 | 2021-10-05 16:59:00 | 2021-10-05 | 16:59:00 |      16 |        59 | evening     | +972 50-471-1226    | במעלית                                                                                         |\n",
            "| 1970-01-01 00:00:00.000004129 | 2021-10-06 17:59:00 | 2021-10-06 | 17:59:00 |      17 |        59 | evening     | +972 52-471-1336    | אפשר לחכות שניה?                                                                               |\n",
            "| 1970-01-01 00:00:00.000004131 | 2021-10-06 18:01:00 | 2021-10-06 | 18:01:00 |      18 |         1 | evening     | +972 52-786-8032    | היי חכו לי בבקשה בגטי                                                                          |\n",
            "| 1970-01-01 00:00:00.000004150 | 2021-10-10 16:59:00 | 2021-10-10 | 16:59:00 |      16 |        59 | evening     | +972 54-566-4926    | חכו לי בבקשה                                                                                   |\n",
            "| 1970-01-01 00:00:00.000004176 | 2021-10-12 18:00:00 | 2021-10-12 | 18:00:00 |      18 |         0 | evening     | +972 58-669-8565    | דקה                                                                                            |\n",
            "| 1970-01-01 00:00:00.000004194 | 2021-10-14 17:59:00 | 2021-10-14 | 17:59:00 |      17 |        59 | evening     | +972 54-310-8818    | דקה מגיע                                                                                       |\n",
            "| 1970-01-01 00:00:00.000004257 | 2021-10-19 17:59:00 | 2021-10-19 | 17:59:00 |      17 |        59 | evening     | +972 58-669-8565    | חכו רגע                                                                                        |\n",
            "| 1970-01-01 00:00:00.000004291 | 2021-10-20 18:01:00 | 2021-10-20 | 18:01:00 |      18 |         1 | evening     | +972 52-550-9152    | במעלית תחכו לי                                                                                 |\n",
            "| 1970-01-01 00:00:00.000004301 | 2021-10-24 08:23:00 | 2021-10-24 | 08:23:00 |       8 |        23 | morning     | +972 54-682-0410    | מאחר דקה בדיוק לארלוזוב מצב לחכות לי שניה?                                                     |\n",
            "| 1970-01-01 00:00:00.000004304 | 2021-10-24 08:26:00 | 2021-10-24 | 08:26:00 |       8 |        26 | morning     | +972 50-789-8030    | היי ברק, לצערי מדובר באזור שלא ניתן להמתין בו מעבר לדקה                                        |\n",
            "| 1970-01-01 00:00:00.000004317 | 2021-10-24 17:04:00 | 2021-10-24 | 17:04:00 |      17 |         4 | evening     | +972 52-550-9152    | מעלית                                                                                          |\n",
            "| 1970-01-01 00:00:00.000004318 | 2021-10-24 17:04:00 | 2021-10-24 | 17:04:00 |      17 |         4 | evening     | +972 52-550-9152    | תחכו לי בבקשה                                                                                  |\n",
            "| 1970-01-01 00:00:00.000004319 | 2021-10-24 17:59:00 | 2021-10-24 | 17:59:00 |      17 |        59 | evening     | +972 52-526-9693    | תחכו לי בבקשה 2 דק בראשי                                                                       |\n",
            "| 1970-01-01 00:00:00.000004331 | 2021-10-25 16:58:00 | 2021-10-25 | 16:58:00 |      16 |        58 | evening     | +972 52-642-8024    | חכו לי במעלית !!                                                                               |\n",
            "| 1970-01-01 00:00:00.000004335 | 2021-10-25 18:02:00 | 2021-10-25 | 18:02:00 |      18 |         2 | evening     | +972 54-682-0410    | במעלית בME 2                                                                                   |\n",
            "| 1970-01-01 00:00:00.000004336 | 2021-10-25 18:05:00 | 2021-10-25 | 18:05:00 |      18 |         5 | evening     | +972 54-682-0410    | חכו בבקשה ME 2                                                                                 |\n",
            "| 1970-01-01 00:00:00.000004341 | 2021-10-25 18:08:00 | 2021-10-25 | 18:08:00 |      18 |         8 | evening     | +972 54-682-0410    | ראיתי אותה, ביקשתי לחכות שניה והוא נסע                                                         |\n",
            "| 1970-01-01 00:00:00.000004371 | 2021-10-26 17:02:00 | 2021-10-26 | 17:02:00 |      17 |         2 | evening     | +972 50-257-9855    | חכו לי בגטי                                                                                    |\n",
            "|                               |                     |            |          |         |           |             |                     | מחכה למעלית                                                                                    |\n",
            "| 1970-01-01 00:00:00.000004372 | 2021-10-26 17:02:00 | 2021-10-26 | 17:02:00 |      17 |         2 | evening     | +972 54-566-6459    | במעלית  - גטי                                                                                  |\n",
            "|                               |                     |            |          |         |           |             |                     | חכו לי בבקשה                                                                                   |\n",
            "| 1970-01-01 00:00:00.000004374 | 2021-10-26 17:02:00 | 2021-10-26 | 17:02:00 |      17 |         2 | evening     | +972 54-658-1834    | היי חברים, הנהג יכול להמתין עד דקה לאחר יציאת השאטל                                            |\n",
            "| 1970-01-01 00:00:00.000004419 | 2021-10-27 17:03:00 | 2021-10-27 | 17:03:00 |      17 |         3 | evening     | +972 50-257-9855    | במעלית                                                                                         |\n",
            "| 1970-01-01 00:00:00.000004420 | 2021-10-27 17:04:00 | 2021-10-27 | 17:04:00 |      17 |         4 | evening     | +972 50-257-9855    | חכו דקה בגטי                                                                                   |\n",
            "| 1970-01-01 00:00:00.000004425 | 2021-10-27 18:03:00 | 2021-10-27 | 18:03:00 |      18 |         3 | evening     | +972 52-380-0283    | במעלית                                                                                         |\n",
            "|                               |                     |            |          |         |           |             |                     | תחכו שניה                                                                                      |\n"
          ]
        }
      ]
    },
    {
      "cell_type": "code",
      "metadata": {
        "colab": {
          "base_uri": "https://localhost:8080/",
          "height": 339
        },
        "id": "P0GEq3r7btga",
        "outputId": "792e834e-26ea-4672-a6d6-92e5f1fb7256"
      },
      "source": [
        "df.hist()"
      ],
      "execution_count": 211,
      "outputs": [
        {
          "output_type": "execute_result",
          "data": {
            "text/plain": [
              "array([[<matplotlib.axes._subplots.AxesSubplot object at 0x7f77c0984cd0>,\n",
              "        <matplotlib.axes._subplots.AxesSubplot object at 0x7f77c0ed6210>]],\n",
              "      dtype=object)"
            ]
          },
          "metadata": {},
          "execution_count": 211
        },
        {
          "output_type": "display_data",
          "data": {
            "image/png": "[encoded data removed]",
            "text/plain": [
              "<Figure size 432x288 with 2 Axes>"
            ]
          },
          "metadata": {
            "needs_background": "light"
          }
        }
      ]
    },
    {
      "cell_type": "code",
      "metadata": {
        "id": "hsDTAlVSfXa6",
        "colab": {
          "base_uri": "https://localhost:8080/"
        },
        "outputId": "297899e5-9bb0-45fa-baa1-5b2cd8cff19f"
      },
      "source": [
        "hist=laters.groupby(['sender', 'direction'])['sender'].agg('count').sort_values(ascending=False).head(10)\n",
        "print(hist)\n",
        "# todo: each sender should have both his directions, then stack them for each sender"
      ],
      "execution_count": 263,
      "outputs": [
        {
          "output_type": "stream",
          "name": "stdout",
          "text": [
            "sender             direction\n",
            " +972 54-756-0251  evening      14\n",
            " +972 52-642-8024  evening      10\n",
            " +972 52-550-9152  evening       9\n",
            " +972 54-642-6404  evening       8\n",
            " +972 58-669-8565  evening       6\n",
            " +972 52-786-8032  evening       6\n",
            " +972 50-373-7621  evening       6\n",
            " +972 54-481-4114  evening       5\n",
            " +972 54-424-7424  evening       5\n",
            " +972 50-510-0120  evening       5\n",
            "Name: sender, dtype: int64\n"
          ]
        }
      ]
    },
    {
      "cell_type": "code",
      "metadata": {
        "colab": {
          "base_uri": "https://localhost:8080/",
          "height": 441
        },
        "id": "XDyvkNDp9qEk",
        "outputId": "0d1c22d6-f0cb-4ff2-ec10-ad36b8c3fdde"
      },
      "source": [
        "hist.plot.bar(stacked=True)"
      ],
      "execution_count": 253,
      "outputs": [
        {
          "output_type": "execute_result",
          "data": {
            "text/plain": [
              "<matplotlib.axes._subplots.AxesSubplot at 0x7f77c0dff610>"
            ]
          },
          "metadata": {},
          "execution_count": 253
        },
        {
          "output_type": "display_data",
          "data": {
            "image/png": "[encoded data removed]",
            "text/plain": [
              "<Figure size 432x288 with 1 Axes>"
            ]
          },
          "metadata": {
            "needs_background": "light"
          }
        }
      ]
    },
    {
      "cell_type": "code",
      "metadata": {
        "colab": {
          "base_uri": "https://localhost:8080/",
          "height": 401
        },
        "id": "rdZc4WP2_aSl",
        "outputId": "be5b4096-407a-4be1-a509-95b22548351b"
      },
      "source": [
        "import matplotlib.pyplot as plt\n",
        "\n",
        "plt.hist([laters['sender'],hist],\n",
        "          bins=10, range=(1,30), stacked=True, color = ['r','g'])"
      ],
      "execution_count": 243,
      "outputs": [
        {
          "output_type": "stream",
          "name": "stderr",
          "text": [
            "/usr/local/lib/python3.7/dist-packages/numpy/core/_asarray.py:83: VisibleDeprecationWarning: Creating an ndarray from ragged nested sequences (which is a list-or-tuple of lists-or-tuples-or ndarrays with different lengths or shapes) is deprecated. If you meant to do this, you must specify 'dtype=object' when creating the ndarray\n",
            "  return array(a, dtype, copy=False, order=order)\n"
          ]
        },
        {
          "output_type": "execute_result",
          "data": {
            "text/plain": [
              "(array([[26., 20., 13.,  7., 16.,  5.,  3., 11., 12.,  4.],\n",
              "        [34., 22., 13.,  7., 16.,  5.,  3., 11., 12.,  4.]]),\n",
              " array([ 1. ,  3.9,  6.8,  9.7, 12.6, 15.5, 18.4, 21.3, 24.2, 27.1, 30. ]),\n",
              " <a list of 2 Lists of Patches objects>)"
            ]
          },
          "metadata": {},
          "execution_count": 243
        },
        {
          "output_type": "display_data",
          "data": {
            "image/png": "[encoded data removed]",
            "text/plain": [
              "<Figure size 432x288 with 1 Axes>"
            ]
          },
          "metadata": {
            "needs_background": "light"
          }
        }
      ]
    },
    {
      "cell_type": "code",
      "metadata": {
        "colab": {
          "base_uri": "https://localhost:8080/",
          "height": 880
        },
        "id": "YFIfiismBZu5",
        "outputId": "fdea136f-d95a-46b9-830c-0ad54f5125dc"
      },
      "source": [
        "import numpy as np\n",
        "import matplotlib.pyplot as plt\n",
        "\n",
        "\n",
        "n_bins = 10\n",
        "x = laters['sender']\n",
        "\n",
        "fig, ((ax0, ax1), (ax2, ax3)) = plt.subplots(nrows=2, ncols=2)\n",
        "\n",
        "colors = laters['direction']\n",
        "\n",
        "\n",
        "ax1.hist(x, hist['count'], density=True, histtype='bar', stacked=True)\n",
        "ax1.set_title('stacked bar')\n",
        "\n",
        "\n",
        "\n",
        "fig.tight_layout()\n",
        "plt.show()"
      ],
      "execution_count": 246,
      "outputs": [
        {
          "output_type": "error",
          "ename": "KeyError",
          "evalue": "ignored",
          "traceback": [
            "\u001b[0;31m---------------------------------------------------------------------------\u001b[0m",
            "\u001b[0;31mKeyError\u001b[0m                                  Traceback (most recent call last)",
            "\u001b[0;32m/usr/local/lib/python3.7/dist-packages/pandas/core/indexes/base.py\u001b[0m in \u001b[0;36mget_loc\u001b[0;34m(self, key, method, tolerance)\u001b[0m\n\u001b[1;32m   2897\u001b[0m             \u001b[0;32mtry\u001b[0m\u001b[0;34m:\u001b[0m\u001b[0;34m\u001b[0m\u001b[0;34m\u001b[0m\u001b[0m\n\u001b[0;32m-> 2898\u001b[0;31m                 \u001b[0;32mreturn\u001b[0m \u001b[0mself\u001b[0m\u001b[0;34m.\u001b[0m\u001b[0m_engine\u001b[0m\u001b[0;34m.\u001b[0m\u001b[0mget_loc\u001b[0m\u001b[0;34m(\u001b[0m\u001b[0mcasted_key\u001b[0m\u001b[0;34m)\u001b[0m\u001b[0;34m\u001b[0m\u001b[0;34m\u001b[0m\u001b[0m\n\u001b[0m\u001b[1;32m   2899\u001b[0m             \u001b[0;32mexcept\u001b[0m \u001b[0mKeyError\u001b[0m \u001b[0;32mas\u001b[0m \u001b[0merr\u001b[0m\u001b[0;34m:\u001b[0m\u001b[0;34m\u001b[0m\u001b[0;34m\u001b[0m\u001b[0m\n",
            "\u001b[0;32mpandas/_libs/index.pyx\u001b[0m in \u001b[0;36mpandas._libs.index.IndexEngine.get_loc\u001b[0;34m()\u001b[0m\n",
            "\u001b[0;32mpandas/_libs/index.pyx\u001b[0m in \u001b[0;36mpandas._libs.index.IndexEngine.get_loc\u001b[0;34m()\u001b[0m\n",
            "\u001b[0;32mpandas/_libs/hashtable_class_helper.pxi\u001b[0m in \u001b[0;36mpandas._libs.hashtable.PyObjectHashTable.get_item\u001b[0;34m()\u001b[0m\n",
            "\u001b[0;32mpandas/_libs/hashtable_class_helper.pxi\u001b[0m in \u001b[0;36mpandas._libs.hashtable.PyObjectHashTable.get_item\u001b[0;34m()\u001b[0m\n",
            "\u001b[0;31mKeyError\u001b[0m: 'count'",
            "\nThe above exception was the direct cause of the following exception:\n",
            "\u001b[0;31mKeyError\u001b[0m                                  Traceback (most recent call last)",
            "\u001b[0;32m<ipython-input-246-7423baaa95cb>\u001b[0m in \u001b[0;36m<module>\u001b[0;34m()\u001b[0m\n\u001b[1;32m     11\u001b[0m \u001b[0;34m\u001b[0m\u001b[0m\n\u001b[1;32m     12\u001b[0m \u001b[0;34m\u001b[0m\u001b[0m\n\u001b[0;32m---> 13\u001b[0;31m \u001b[0max1\u001b[0m\u001b[0;34m.\u001b[0m\u001b[0mhist\u001b[0m\u001b[0;34m(\u001b[0m\u001b[0mx\u001b[0m\u001b[0;34m,\u001b[0m \u001b[0mhist\u001b[0m\u001b[0;34m[\u001b[0m\u001b[0;34m'count'\u001b[0m\u001b[0;34m]\u001b[0m\u001b[0;34m,\u001b[0m \u001b[0mdensity\u001b[0m\u001b[0;34m=\u001b[0m\u001b[0;32mTrue\u001b[0m\u001b[0;34m,\u001b[0m \u001b[0mhisttype\u001b[0m\u001b[0;34m=\u001b[0m\u001b[0;34m'bar'\u001b[0m\u001b[0;34m,\u001b[0m \u001b[0mstacked\u001b[0m\u001b[0;34m=\u001b[0m\u001b[0;32mTrue\u001b[0m\u001b[0;34m)\u001b[0m\u001b[0;34m\u001b[0m\u001b[0;34m\u001b[0m\u001b[0m\n\u001b[0m\u001b[1;32m     14\u001b[0m \u001b[0max1\u001b[0m\u001b[0;34m.\u001b[0m\u001b[0mset_title\u001b[0m\u001b[0;34m(\u001b[0m\u001b[0;34m'stacked bar'\u001b[0m\u001b[0;34m)\u001b[0m\u001b[0;34m\u001b[0m\u001b[0;34m\u001b[0m\u001b[0m\n\u001b[1;32m     15\u001b[0m \u001b[0;34m\u001b[0m\u001b[0m\n",
            "\u001b[0;32m/usr/local/lib/python3.7/dist-packages/pandas/core/series.py\u001b[0m in \u001b[0;36m__getitem__\u001b[0;34m(self, key)\u001b[0m\n\u001b[1;32m    880\u001b[0m \u001b[0;34m\u001b[0m\u001b[0m\n\u001b[1;32m    881\u001b[0m         \u001b[0;32melif\u001b[0m \u001b[0mkey_is_scalar\u001b[0m\u001b[0;34m:\u001b[0m\u001b[0;34m\u001b[0m\u001b[0;34m\u001b[0m\u001b[0m\n\u001b[0;32m--> 882\u001b[0;31m             \u001b[0;32mreturn\u001b[0m \u001b[0mself\u001b[0m\u001b[0;34m.\u001b[0m\u001b[0m_get_value\u001b[0m\u001b[0;34m(\u001b[0m\u001b[0mkey\u001b[0m\u001b[0;34m)\u001b[0m\u001b[0;34m\u001b[0m\u001b[0;34m\u001b[0m\u001b[0m\n\u001b[0m\u001b[1;32m    883\u001b[0m \u001b[0;34m\u001b[0m\u001b[0m\n\u001b[1;32m    884\u001b[0m         \u001b[0;32mif\u001b[0m \u001b[0mis_hashable\u001b[0m\u001b[0;34m(\u001b[0m\u001b[0mkey\u001b[0m\u001b[0;34m)\u001b[0m\u001b[0;34m:\u001b[0m\u001b[0;34m\u001b[0m\u001b[0;34m\u001b[0m\u001b[0m\n",
            "\u001b[0;32m/usr/local/lib/python3.7/dist-packages/pandas/core/series.py\u001b[0m in \u001b[0;36m_get_value\u001b[0;34m(self, label, takeable)\u001b[0m\n\u001b[1;32m    988\u001b[0m \u001b[0;34m\u001b[0m\u001b[0m\n\u001b[1;32m    989\u001b[0m         \u001b[0;31m# Similar to Index.get_value, but we do not fall back to positional\u001b[0m\u001b[0;34m\u001b[0m\u001b[0;34m\u001b[0m\u001b[0;34m\u001b[0m\u001b[0m\n\u001b[0;32m--> 990\u001b[0;31m         \u001b[0mloc\u001b[0m \u001b[0;34m=\u001b[0m \u001b[0mself\u001b[0m\u001b[0;34m.\u001b[0m\u001b[0mindex\u001b[0m\u001b[0;34m.\u001b[0m\u001b[0mget_loc\u001b[0m\u001b[0;34m(\u001b[0m\u001b[0mlabel\u001b[0m\u001b[0;34m)\u001b[0m\u001b[0;34m\u001b[0m\u001b[0;34m\u001b[0m\u001b[0m\n\u001b[0m\u001b[1;32m    991\u001b[0m         \u001b[0;32mreturn\u001b[0m \u001b[0mself\u001b[0m\u001b[0;34m.\u001b[0m\u001b[0mindex\u001b[0m\u001b[0;34m.\u001b[0m\u001b[0m_get_values_for_loc\u001b[0m\u001b[0;34m(\u001b[0m\u001b[0mself\u001b[0m\u001b[0;34m,\u001b[0m \u001b[0mloc\u001b[0m\u001b[0;34m,\u001b[0m \u001b[0mlabel\u001b[0m\u001b[0;34m)\u001b[0m\u001b[0;34m\u001b[0m\u001b[0;34m\u001b[0m\u001b[0m\n\u001b[1;32m    992\u001b[0m \u001b[0;34m\u001b[0m\u001b[0m\n",
            "\u001b[0;32m/usr/local/lib/python3.7/dist-packages/pandas/core/indexes/multi.py\u001b[0m in \u001b[0;36mget_loc\u001b[0;34m(self, key, method)\u001b[0m\n\u001b[1;32m   2702\u001b[0m \u001b[0;34m\u001b[0m\u001b[0m\n\u001b[1;32m   2703\u001b[0m         \u001b[0;32mif\u001b[0m \u001b[0;32mnot\u001b[0m \u001b[0misinstance\u001b[0m\u001b[0;34m(\u001b[0m\u001b[0mkey\u001b[0m\u001b[0;34m,\u001b[0m \u001b[0mtuple\u001b[0m\u001b[0;34m)\u001b[0m\u001b[0;34m:\u001b[0m\u001b[0;34m\u001b[0m\u001b[0;34m\u001b[0m\u001b[0m\n\u001b[0;32m-> 2704\u001b[0;31m             \u001b[0mloc\u001b[0m \u001b[0;34m=\u001b[0m \u001b[0mself\u001b[0m\u001b[0;34m.\u001b[0m\u001b[0m_get_level_indexer\u001b[0m\u001b[0;34m(\u001b[0m\u001b[0mkey\u001b[0m\u001b[0;34m,\u001b[0m \u001b[0mlevel\u001b[0m\u001b[0;34m=\u001b[0m\u001b[0;36m0\u001b[0m\u001b[0;34m)\u001b[0m\u001b[0;34m\u001b[0m\u001b[0;34m\u001b[0m\u001b[0m\n\u001b[0m\u001b[1;32m   2705\u001b[0m             \u001b[0;32mreturn\u001b[0m \u001b[0m_maybe_to_slice\u001b[0m\u001b[0;34m(\u001b[0m\u001b[0mloc\u001b[0m\u001b[0;34m)\u001b[0m\u001b[0;34m\u001b[0m\u001b[0;34m\u001b[0m\u001b[0m\n\u001b[1;32m   2706\u001b[0m \u001b[0;34m\u001b[0m\u001b[0m\n",
            "\u001b[0;32m/usr/local/lib/python3.7/dist-packages/pandas/core/indexes/multi.py\u001b[0m in \u001b[0;36m_get_level_indexer\u001b[0;34m(self, key, level, indexer)\u001b[0m\n\u001b[1;32m   2967\u001b[0m         \u001b[0;32melse\u001b[0m\u001b[0;34m:\u001b[0m\u001b[0;34m\u001b[0m\u001b[0;34m\u001b[0m\u001b[0m\n\u001b[1;32m   2968\u001b[0m \u001b[0;34m\u001b[0m\u001b[0m\n\u001b[0;32m-> 2969\u001b[0;31m             \u001b[0mcode\u001b[0m \u001b[0;34m=\u001b[0m \u001b[0mself\u001b[0m\u001b[0;34m.\u001b[0m\u001b[0m_get_loc_single_level_index\u001b[0m\u001b[0;34m(\u001b[0m\u001b[0mlevel_index\u001b[0m\u001b[0;34m,\u001b[0m \u001b[0mkey\u001b[0m\u001b[0;34m)\u001b[0m\u001b[0;34m\u001b[0m\u001b[0;34m\u001b[0m\u001b[0m\n\u001b[0m\u001b[1;32m   2970\u001b[0m \u001b[0;34m\u001b[0m\u001b[0m\n\u001b[1;32m   2971\u001b[0m             \u001b[0;32mif\u001b[0m \u001b[0mlevel\u001b[0m \u001b[0;34m>\u001b[0m \u001b[0;36m0\u001b[0m \u001b[0;32mor\u001b[0m \u001b[0mself\u001b[0m\u001b[0;34m.\u001b[0m\u001b[0mlexsort_depth\u001b[0m \u001b[0;34m==\u001b[0m \u001b[0;36m0\u001b[0m\u001b[0;34m:\u001b[0m\u001b[0;34m\u001b[0m\u001b[0;34m\u001b[0m\u001b[0m\n",
            "\u001b[0;32m/usr/local/lib/python3.7/dist-packages/pandas/core/indexes/multi.py\u001b[0m in \u001b[0;36m_get_loc_single_level_index\u001b[0;34m(self, level_index, key)\u001b[0m\n\u001b[1;32m   2635\u001b[0m             \u001b[0;32mreturn\u001b[0m \u001b[0;34m-\u001b[0m\u001b[0;36m1\u001b[0m\u001b[0;34m\u001b[0m\u001b[0;34m\u001b[0m\u001b[0m\n\u001b[1;32m   2636\u001b[0m         \u001b[0;32melse\u001b[0m\u001b[0;34m:\u001b[0m\u001b[0;34m\u001b[0m\u001b[0;34m\u001b[0m\u001b[0m\n\u001b[0;32m-> 2637\u001b[0;31m             \u001b[0;32mreturn\u001b[0m \u001b[0mlevel_index\u001b[0m\u001b[0;34m.\u001b[0m\u001b[0mget_loc\u001b[0m\u001b[0;34m(\u001b[0m\u001b[0mkey\u001b[0m\u001b[0;34m)\u001b[0m\u001b[0;34m\u001b[0m\u001b[0;34m\u001b[0m\u001b[0m\n\u001b[0m\u001b[1;32m   2638\u001b[0m \u001b[0;34m\u001b[0m\u001b[0m\n\u001b[1;32m   2639\u001b[0m     \u001b[0;32mdef\u001b[0m \u001b[0mget_loc\u001b[0m\u001b[0;34m(\u001b[0m\u001b[0mself\u001b[0m\u001b[0;34m,\u001b[0m \u001b[0mkey\u001b[0m\u001b[0;34m,\u001b[0m \u001b[0mmethod\u001b[0m\u001b[0;34m=\u001b[0m\u001b[0;32mNone\u001b[0m\u001b[0;34m)\u001b[0m\u001b[0;34m:\u001b[0m\u001b[0;34m\u001b[0m\u001b[0;34m\u001b[0m\u001b[0m\n",
            "\u001b[0;32m/usr/local/lib/python3.7/dist-packages/pandas/core/indexes/base.py\u001b[0m in \u001b[0;36mget_loc\u001b[0;34m(self, key, method, tolerance)\u001b[0m\n\u001b[1;32m   2898\u001b[0m                 \u001b[0;32mreturn\u001b[0m \u001b[0mself\u001b[0m\u001b[0;34m.\u001b[0m\u001b[0m_engine\u001b[0m\u001b[0;34m.\u001b[0m\u001b[0mget_loc\u001b[0m\u001b[0;34m(\u001b[0m\u001b[0mcasted_key\u001b[0m\u001b[0;34m)\u001b[0m\u001b[0;34m\u001b[0m\u001b[0;34m\u001b[0m\u001b[0m\n\u001b[1;32m   2899\u001b[0m             \u001b[0;32mexcept\u001b[0m \u001b[0mKeyError\u001b[0m \u001b[0;32mas\u001b[0m \u001b[0merr\u001b[0m\u001b[0;34m:\u001b[0m\u001b[0;34m\u001b[0m\u001b[0;34m\u001b[0m\u001b[0m\n\u001b[0;32m-> 2900\u001b[0;31m                 \u001b[0;32mraise\u001b[0m \u001b[0mKeyError\u001b[0m\u001b[0;34m(\u001b[0m\u001b[0mkey\u001b[0m\u001b[0;34m)\u001b[0m \u001b[0;32mfrom\u001b[0m \u001b[0merr\u001b[0m\u001b[0;34m\u001b[0m\u001b[0;34m\u001b[0m\u001b[0m\n\u001b[0m\u001b[1;32m   2901\u001b[0m \u001b[0;34m\u001b[0m\u001b[0m\n\u001b[1;32m   2902\u001b[0m         \u001b[0;32mif\u001b[0m \u001b[0mtolerance\u001b[0m \u001b[0;32mis\u001b[0m \u001b[0;32mnot\u001b[0m \u001b[0;32mNone\u001b[0m\u001b[0;34m:\u001b[0m\u001b[0;34m\u001b[0m\u001b[0;34m\u001b[0m\u001b[0m\n",
            "\u001b[0;31mKeyError\u001b[0m: 'count'"
          ]
        },
        {
          "output_type": "display_data",
          "data": {
            "image/png": "[encoded data removed]",
            "text/plain": [
              "<Figure size 432x288 with 4 Axes>"
            ]
          },
          "metadata": {
            "needs_background": "light"
          }
        }
      ]
    },
    {
      "cell_type": "code",
      "metadata": {
        "colab": {
          "base_uri": "https://localhost:8080/",
          "height": 551
        },
        "id": "eKCoBIGSBtga",
        "outputId": "9fbdec4b-224a-44a3-e483-a1696db747fc"
      },
      "source": [
        "import numpy as np\n",
        "def hist(x):\n",
        "    h, e = np.histogram(x)\n",
        "    e = e.astype(int)\n",
        "    return pd.Series(h, zip(e[:-1], e[1:]))\n",
        "    \n",
        "kw = dict(stacked=True, width=1, rot=45)\n",
        "laters.groupby('direction').sender.apply(hist).unstack(0).plot.bar(**kw)\n"
      ],
      "execution_count": 276,
      "outputs": [
        {
          "output_type": "error",
          "ename": "TypeError",
          "evalue": "ignored",
          "traceback": [
            "\u001b[0;31m---------------------------------------------------------------------------\u001b[0m",
            "\u001b[0;31mTypeError\u001b[0m                                 Traceback (most recent call last)",
            "\u001b[0;32m/usr/local/lib/python3.7/dist-packages/pandas/core/groupby/groupby.py\u001b[0m in \u001b[0;36mapply\u001b[0;34m(self, func, *args, **kwargs)\u001b[0m\n\u001b[1;32m    858\u001b[0m             \u001b[0;32mtry\u001b[0m\u001b[0;34m:\u001b[0m\u001b[0;34m\u001b[0m\u001b[0;34m\u001b[0m\u001b[0m\n\u001b[0;32m--> 859\u001b[0;31m                 \u001b[0mresult\u001b[0m \u001b[0;34m=\u001b[0m \u001b[0mself\u001b[0m\u001b[0;34m.\u001b[0m\u001b[0m_python_apply_general\u001b[0m\u001b[0;34m(\u001b[0m\u001b[0mf\u001b[0m\u001b[0;34m,\u001b[0m \u001b[0mself\u001b[0m\u001b[0;34m.\u001b[0m\u001b[0m_selected_obj\u001b[0m\u001b[0;34m)\u001b[0m\u001b[0;34m\u001b[0m\u001b[0;34m\u001b[0m\u001b[0m\n\u001b[0m\u001b[1;32m    860\u001b[0m             \u001b[0;32mexcept\u001b[0m \u001b[0mTypeError\u001b[0m\u001b[0;34m:\u001b[0m\u001b[0;34m\u001b[0m\u001b[0;34m\u001b[0m\u001b[0m\n",
            "\u001b[0;32m/usr/local/lib/python3.7/dist-packages/pandas/core/groupby/groupby.py\u001b[0m in \u001b[0;36m_python_apply_general\u001b[0;34m(self, f, data)\u001b[0m\n\u001b[1;32m    891\u001b[0m         \"\"\"\n\u001b[0;32m--> 892\u001b[0;31m         \u001b[0mkeys\u001b[0m\u001b[0;34m,\u001b[0m \u001b[0mvalues\u001b[0m\u001b[0;34m,\u001b[0m \u001b[0mmutated\u001b[0m \u001b[0;34m=\u001b[0m \u001b[0mself\u001b[0m\u001b[0;34m.\u001b[0m\u001b[0mgrouper\u001b[0m\u001b[0;34m.\u001b[0m\u001b[0mapply\u001b[0m\u001b[0;34m(\u001b[0m\u001b[0mf\u001b[0m\u001b[0;34m,\u001b[0m \u001b[0mdata\u001b[0m\u001b[0;34m,\u001b[0m \u001b[0mself\u001b[0m\u001b[0;34m.\u001b[0m\u001b[0maxis\u001b[0m\u001b[0;34m)\u001b[0m\u001b[0;34m\u001b[0m\u001b[0;34m\u001b[0m\u001b[0m\n\u001b[0m\u001b[1;32m    893\u001b[0m \u001b[0;34m\u001b[0m\u001b[0m\n",
            "\u001b[0;32m/usr/local/lib/python3.7/dist-packages/pandas/core/groupby/ops.py\u001b[0m in \u001b[0;36mapply\u001b[0;34m(self, f, data, axis)\u001b[0m\n\u001b[1;32m    219\u001b[0m             \u001b[0mgroup_axes\u001b[0m \u001b[0;34m=\u001b[0m \u001b[0mgroup\u001b[0m\u001b[0;34m.\u001b[0m\u001b[0maxes\u001b[0m\u001b[0;34m\u001b[0m\u001b[0;34m\u001b[0m\u001b[0m\n\u001b[0;32m--> 220\u001b[0;31m             \u001b[0mres\u001b[0m \u001b[0;34m=\u001b[0m \u001b[0mf\u001b[0m\u001b[0;34m(\u001b[0m\u001b[0mgroup\u001b[0m\u001b[0;34m)\u001b[0m\u001b[0;34m\u001b[0m\u001b[0;34m\u001b[0m\u001b[0m\n\u001b[0m\u001b[1;32m    221\u001b[0m             \u001b[0;32mif\u001b[0m \u001b[0;32mnot\u001b[0m \u001b[0m_is_indexed_like\u001b[0m\u001b[0;34m(\u001b[0m\u001b[0mres\u001b[0m\u001b[0;34m,\u001b[0m \u001b[0mgroup_axes\u001b[0m\u001b[0;34m)\u001b[0m\u001b[0;34m:\u001b[0m\u001b[0;34m\u001b[0m\u001b[0;34m\u001b[0m\u001b[0m\n",
            "\u001b[0;32m<ipython-input-276-335fe138c126>\u001b[0m in \u001b[0;36mhist\u001b[0;34m(x)\u001b[0m\n\u001b[1;32m      2\u001b[0m \u001b[0;32mdef\u001b[0m \u001b[0mhist\u001b[0m\u001b[0;34m(\u001b[0m\u001b[0mx\u001b[0m\u001b[0;34m)\u001b[0m\u001b[0;34m:\u001b[0m\u001b[0;34m\u001b[0m\u001b[0;34m\u001b[0m\u001b[0m\n\u001b[0;32m----> 3\u001b[0;31m     \u001b[0mh\u001b[0m\u001b[0;34m,\u001b[0m \u001b[0me\u001b[0m \u001b[0;34m=\u001b[0m \u001b[0mnp\u001b[0m\u001b[0;34m.\u001b[0m\u001b[0mhistogram\u001b[0m\u001b[0;34m(\u001b[0m\u001b[0mx\u001b[0m\u001b[0;34m)\u001b[0m\u001b[0;34m\u001b[0m\u001b[0;34m\u001b[0m\u001b[0m\n\u001b[0m\u001b[1;32m      4\u001b[0m     \u001b[0me\u001b[0m \u001b[0;34m=\u001b[0m \u001b[0me\u001b[0m\u001b[0;34m.\u001b[0m\u001b[0mastype\u001b[0m\u001b[0;34m(\u001b[0m\u001b[0mint\u001b[0m\u001b[0;34m)\u001b[0m\u001b[0;34m\u001b[0m\u001b[0;34m\u001b[0m\u001b[0m\n",
            "\u001b[0;32m<__array_function__ internals>\u001b[0m in \u001b[0;36mhistogram\u001b[0;34m(*args, **kwargs)\u001b[0m\n",
            "\u001b[0;32m/usr/local/lib/python3.7/dist-packages/numpy/lib/histograms.py\u001b[0m in \u001b[0;36mhistogram\u001b[0;34m(a, bins, range, normed, weights, density)\u001b[0m\n\u001b[1;32m    791\u001b[0m \u001b[0;34m\u001b[0m\u001b[0m\n\u001b[0;32m--> 792\u001b[0;31m     \u001b[0mbin_edges\u001b[0m\u001b[0;34m,\u001b[0m \u001b[0muniform_bins\u001b[0m \u001b[0;34m=\u001b[0m \u001b[0m_get_bin_edges\u001b[0m\u001b[0;34m(\u001b[0m\u001b[0ma\u001b[0m\u001b[0;34m,\u001b[0m \u001b[0mbins\u001b[0m\u001b[0;34m,\u001b[0m \u001b[0mrange\u001b[0m\u001b[0;34m,\u001b[0m \u001b[0mweights\u001b[0m\u001b[0;34m)\u001b[0m\u001b[0;34m\u001b[0m\u001b[0;34m\u001b[0m\u001b[0m\n\u001b[0m\u001b[1;32m    793\u001b[0m \u001b[0;34m\u001b[0m\u001b[0m\n",
            "\u001b[0;32m/usr/local/lib/python3.7/dist-packages/numpy/lib/histograms.py\u001b[0m in \u001b[0;36m_get_bin_edges\u001b[0;34m(a, bins, range, weights)\u001b[0m\n\u001b[1;32m    425\u001b[0m \u001b[0;34m\u001b[0m\u001b[0m\n\u001b[0;32m--> 426\u001b[0;31m         \u001b[0mfirst_edge\u001b[0m\u001b[0;34m,\u001b[0m \u001b[0mlast_edge\u001b[0m \u001b[0;34m=\u001b[0m \u001b[0m_get_outer_edges\u001b[0m\u001b[0;34m(\u001b[0m\u001b[0ma\u001b[0m\u001b[0;34m,\u001b[0m \u001b[0mrange\u001b[0m\u001b[0;34m)\u001b[0m\u001b[0;34m\u001b[0m\u001b[0;34m\u001b[0m\u001b[0m\n\u001b[0m\u001b[1;32m    427\u001b[0m \u001b[0;34m\u001b[0m\u001b[0m\n",
            "\u001b[0;32m/usr/local/lib/python3.7/dist-packages/numpy/lib/histograms.py\u001b[0m in \u001b[0;36m_get_outer_edges\u001b[0;34m(a, range)\u001b[0m\n\u001b[1;32m    321\u001b[0m         \u001b[0mfirst_edge\u001b[0m\u001b[0;34m,\u001b[0m \u001b[0mlast_edge\u001b[0m \u001b[0;34m=\u001b[0m \u001b[0ma\u001b[0m\u001b[0;34m.\u001b[0m\u001b[0mmin\u001b[0m\u001b[0;34m(\u001b[0m\u001b[0;34m)\u001b[0m\u001b[0;34m,\u001b[0m \u001b[0ma\u001b[0m\u001b[0;34m.\u001b[0m\u001b[0mmax\u001b[0m\u001b[0;34m(\u001b[0m\u001b[0;34m)\u001b[0m\u001b[0;34m\u001b[0m\u001b[0;34m\u001b[0m\u001b[0m\n\u001b[0;32m--> 322\u001b[0;31m         \u001b[0;32mif\u001b[0m \u001b[0;32mnot\u001b[0m \u001b[0;34m(\u001b[0m\u001b[0mnp\u001b[0m\u001b[0;34m.\u001b[0m\u001b[0misfinite\u001b[0m\u001b[0;34m(\u001b[0m\u001b[0mfirst_edge\u001b[0m\u001b[0;34m)\u001b[0m \u001b[0;32mand\u001b[0m \u001b[0mnp\u001b[0m\u001b[0;34m.\u001b[0m\u001b[0misfinite\u001b[0m\u001b[0;34m(\u001b[0m\u001b[0mlast_edge\u001b[0m\u001b[0;34m)\u001b[0m\u001b[0;34m)\u001b[0m\u001b[0;34m:\u001b[0m\u001b[0;34m\u001b[0m\u001b[0;34m\u001b[0m\u001b[0m\n\u001b[0m\u001b[1;32m    323\u001b[0m             raise ValueError(\n",
            "\u001b[0;31mTypeError\u001b[0m: ufunc 'isfinite' not supported for the input types, and the inputs could not be safely coerced to any supported types according to the casting rule ''safe''",
            "\nDuring handling of the above exception, another exception occurred:\n",
            "\u001b[0;31mTypeError\u001b[0m                                 Traceback (most recent call last)",
            "\u001b[0;32m<ipython-input-276-335fe138c126>\u001b[0m in \u001b[0;36m<module>\u001b[0;34m()\u001b[0m\n\u001b[1;32m      6\u001b[0m \u001b[0;34m\u001b[0m\u001b[0m\n\u001b[1;32m      7\u001b[0m \u001b[0mkw\u001b[0m \u001b[0;34m=\u001b[0m \u001b[0mdict\u001b[0m\u001b[0;34m(\u001b[0m\u001b[0mstacked\u001b[0m\u001b[0;34m=\u001b[0m\u001b[0;32mTrue\u001b[0m\u001b[0;34m,\u001b[0m \u001b[0mwidth\u001b[0m\u001b[0;34m=\u001b[0m\u001b[0;36m1\u001b[0m\u001b[0;34m,\u001b[0m \u001b[0mrot\u001b[0m\u001b[0;34m=\u001b[0m\u001b[0;36m45\u001b[0m\u001b[0;34m)\u001b[0m\u001b[0;34m\u001b[0m\u001b[0;34m\u001b[0m\u001b[0m\n\u001b[0;32m----> 8\u001b[0;31m \u001b[0mlaters\u001b[0m\u001b[0;34m.\u001b[0m\u001b[0mgroupby\u001b[0m\u001b[0;34m(\u001b[0m\u001b[0;34m'direction'\u001b[0m\u001b[0;34m)\u001b[0m\u001b[0;34m.\u001b[0m\u001b[0msender\u001b[0m\u001b[0;34m.\u001b[0m\u001b[0mapply\u001b[0m\u001b[0;34m(\u001b[0m\u001b[0mhist\u001b[0m\u001b[0;34m)\u001b[0m\u001b[0;34m.\u001b[0m\u001b[0munstack\u001b[0m\u001b[0;34m(\u001b[0m\u001b[0;36m0\u001b[0m\u001b[0;34m)\u001b[0m\u001b[0;34m.\u001b[0m\u001b[0mplot\u001b[0m\u001b[0;34m.\u001b[0m\u001b[0mbar\u001b[0m\u001b[0;34m(\u001b[0m\u001b[0;34m**\u001b[0m\u001b[0mkw\u001b[0m\u001b[0;34m)\u001b[0m\u001b[0;34m\u001b[0m\u001b[0;34m\u001b[0m\u001b[0m\n\u001b[0m",
            "\u001b[0;32m/usr/local/lib/python3.7/dist-packages/pandas/core/groupby/generic.py\u001b[0m in \u001b[0;36mapply\u001b[0;34m(self, func, *args, **kwargs)\u001b[0m\n\u001b[1;32m    224\u001b[0m     )\n\u001b[1;32m    225\u001b[0m     \u001b[0;32mdef\u001b[0m \u001b[0mapply\u001b[0m\u001b[0;34m(\u001b[0m\u001b[0mself\u001b[0m\u001b[0;34m,\u001b[0m \u001b[0mfunc\u001b[0m\u001b[0;34m,\u001b[0m \u001b[0;34m*\u001b[0m\u001b[0margs\u001b[0m\u001b[0;34m,\u001b[0m \u001b[0;34m**\u001b[0m\u001b[0mkwargs\u001b[0m\u001b[0;34m)\u001b[0m\u001b[0;34m:\u001b[0m\u001b[0;34m\u001b[0m\u001b[0;34m\u001b[0m\u001b[0m\n\u001b[0;32m--> 226\u001b[0;31m         \u001b[0;32mreturn\u001b[0m \u001b[0msuper\u001b[0m\u001b[0;34m(\u001b[0m\u001b[0;34m)\u001b[0m\u001b[0;34m.\u001b[0m\u001b[0mapply\u001b[0m\u001b[0;34m(\u001b[0m\u001b[0mfunc\u001b[0m\u001b[0;34m,\u001b[0m \u001b[0;34m*\u001b[0m\u001b[0margs\u001b[0m\u001b[0;34m,\u001b[0m \u001b[0;34m**\u001b[0m\u001b[0mkwargs\u001b[0m\u001b[0;34m)\u001b[0m\u001b[0;34m\u001b[0m\u001b[0;34m\u001b[0m\u001b[0m\n\u001b[0m\u001b[1;32m    227\u001b[0m \u001b[0;34m\u001b[0m\u001b[0m\n\u001b[1;32m    228\u001b[0m     @doc(\n",
            "\u001b[0;32m/usr/local/lib/python3.7/dist-packages/pandas/core/groupby/groupby.py\u001b[0m in \u001b[0;36mapply\u001b[0;34m(self, func, *args, **kwargs)\u001b[0m\n\u001b[1;32m    868\u001b[0m \u001b[0;34m\u001b[0m\u001b[0m\n\u001b[1;32m    869\u001b[0m                 \u001b[0;32mwith\u001b[0m \u001b[0m_group_selection_context\u001b[0m\u001b[0;34m(\u001b[0m\u001b[0mself\u001b[0m\u001b[0;34m)\u001b[0m\u001b[0;34m:\u001b[0m\u001b[0;34m\u001b[0m\u001b[0;34m\u001b[0m\u001b[0m\n\u001b[0;32m--> 870\u001b[0;31m                     \u001b[0;32mreturn\u001b[0m \u001b[0mself\u001b[0m\u001b[0;34m.\u001b[0m\u001b[0m_python_apply_general\u001b[0m\u001b[0;34m(\u001b[0m\u001b[0mf\u001b[0m\u001b[0;34m,\u001b[0m \u001b[0mself\u001b[0m\u001b[0;34m.\u001b[0m\u001b[0m_selected_obj\u001b[0m\u001b[0;34m)\u001b[0m\u001b[0;34m\u001b[0m\u001b[0;34m\u001b[0m\u001b[0m\n\u001b[0m\u001b[1;32m    871\u001b[0m \u001b[0;34m\u001b[0m\u001b[0m\n\u001b[1;32m    872\u001b[0m         \u001b[0;32mreturn\u001b[0m \u001b[0mresult\u001b[0m\u001b[0;34m\u001b[0m\u001b[0;34m\u001b[0m\u001b[0m\n",
            "\u001b[0;32m/usr/local/lib/python3.7/dist-packages/pandas/core/groupby/groupby.py\u001b[0m in \u001b[0;36m_python_apply_general\u001b[0;34m(self, f, data)\u001b[0m\n\u001b[1;32m    890\u001b[0m             \u001b[0mdata\u001b[0m \u001b[0mafter\u001b[0m \u001b[0mapplying\u001b[0m \u001b[0mf\u001b[0m\u001b[0;34m\u001b[0m\u001b[0;34m\u001b[0m\u001b[0m\n\u001b[1;32m    891\u001b[0m         \"\"\"\n\u001b[0;32m--> 892\u001b[0;31m         \u001b[0mkeys\u001b[0m\u001b[0;34m,\u001b[0m \u001b[0mvalues\u001b[0m\u001b[0;34m,\u001b[0m \u001b[0mmutated\u001b[0m \u001b[0;34m=\u001b[0m \u001b[0mself\u001b[0m\u001b[0;34m.\u001b[0m\u001b[0mgrouper\u001b[0m\u001b[0;34m.\u001b[0m\u001b[0mapply\u001b[0m\u001b[0;34m(\u001b[0m\u001b[0mf\u001b[0m\u001b[0;34m,\u001b[0m \u001b[0mdata\u001b[0m\u001b[0;34m,\u001b[0m \u001b[0mself\u001b[0m\u001b[0;34m.\u001b[0m\u001b[0maxis\u001b[0m\u001b[0;34m)\u001b[0m\u001b[0;34m\u001b[0m\u001b[0;34m\u001b[0m\u001b[0m\n\u001b[0m\u001b[1;32m    893\u001b[0m \u001b[0;34m\u001b[0m\u001b[0m\n\u001b[1;32m    894\u001b[0m         return self._wrap_applied_output(\n",
            "\u001b[0;32m/usr/local/lib/python3.7/dist-packages/pandas/core/groupby/ops.py\u001b[0m in \u001b[0;36mapply\u001b[0;34m(self, f, data, axis)\u001b[0m\n\u001b[1;32m    218\u001b[0m             \u001b[0;31m# group might be modified\u001b[0m\u001b[0;34m\u001b[0m\u001b[0;34m\u001b[0m\u001b[0;34m\u001b[0m\u001b[0m\n\u001b[1;32m    219\u001b[0m             \u001b[0mgroup_axes\u001b[0m \u001b[0;34m=\u001b[0m \u001b[0mgroup\u001b[0m\u001b[0;34m.\u001b[0m\u001b[0maxes\u001b[0m\u001b[0;34m\u001b[0m\u001b[0;34m\u001b[0m\u001b[0m\n\u001b[0;32m--> 220\u001b[0;31m             \u001b[0mres\u001b[0m \u001b[0;34m=\u001b[0m \u001b[0mf\u001b[0m\u001b[0;34m(\u001b[0m\u001b[0mgroup\u001b[0m\u001b[0;34m)\u001b[0m\u001b[0;34m\u001b[0m\u001b[0;34m\u001b[0m\u001b[0m\n\u001b[0m\u001b[1;32m    221\u001b[0m             \u001b[0;32mif\u001b[0m \u001b[0;32mnot\u001b[0m \u001b[0m_is_indexed_like\u001b[0m\u001b[0;34m(\u001b[0m\u001b[0mres\u001b[0m\u001b[0;34m,\u001b[0m \u001b[0mgroup_axes\u001b[0m\u001b[0;34m)\u001b[0m\u001b[0;34m:\u001b[0m\u001b[0;34m\u001b[0m\u001b[0;34m\u001b[0m\u001b[0m\n\u001b[1;32m    222\u001b[0m                 \u001b[0mmutated\u001b[0m \u001b[0;34m=\u001b[0m \u001b[0;32mTrue\u001b[0m\u001b[0;34m\u001b[0m\u001b[0;34m\u001b[0m\u001b[0m\n",
            "\u001b[0;32m<ipython-input-276-335fe138c126>\u001b[0m in \u001b[0;36mhist\u001b[0;34m(x)\u001b[0m\n\u001b[1;32m      1\u001b[0m \u001b[0;32mimport\u001b[0m \u001b[0mnumpy\u001b[0m \u001b[0;32mas\u001b[0m \u001b[0mnp\u001b[0m\u001b[0;34m\u001b[0m\u001b[0;34m\u001b[0m\u001b[0m\n\u001b[1;32m      2\u001b[0m \u001b[0;32mdef\u001b[0m \u001b[0mhist\u001b[0m\u001b[0;34m(\u001b[0m\u001b[0mx\u001b[0m\u001b[0;34m)\u001b[0m\u001b[0;34m:\u001b[0m\u001b[0;34m\u001b[0m\u001b[0;34m\u001b[0m\u001b[0m\n\u001b[0;32m----> 3\u001b[0;31m     \u001b[0mh\u001b[0m\u001b[0;34m,\u001b[0m \u001b[0me\u001b[0m \u001b[0;34m=\u001b[0m \u001b[0mnp\u001b[0m\u001b[0;34m.\u001b[0m\u001b[0mhistogram\u001b[0m\u001b[0;34m(\u001b[0m\u001b[0mx\u001b[0m\u001b[0;34m)\u001b[0m\u001b[0;34m\u001b[0m\u001b[0;34m\u001b[0m\u001b[0m\n\u001b[0m\u001b[1;32m      4\u001b[0m     \u001b[0me\u001b[0m \u001b[0;34m=\u001b[0m \u001b[0me\u001b[0m\u001b[0;34m.\u001b[0m\u001b[0mastype\u001b[0m\u001b[0;34m(\u001b[0m\u001b[0mint\u001b[0m\u001b[0;34m)\u001b[0m\u001b[0;34m\u001b[0m\u001b[0;34m\u001b[0m\u001b[0m\n\u001b[1;32m      5\u001b[0m     \u001b[0;32mreturn\u001b[0m \u001b[0mpd\u001b[0m\u001b[0;34m.\u001b[0m\u001b[0mSeries\u001b[0m\u001b[0;34m(\u001b[0m\u001b[0mh\u001b[0m\u001b[0;34m,\u001b[0m \u001b[0mzip\u001b[0m\u001b[0;34m(\u001b[0m\u001b[0me\u001b[0m\u001b[0;34m[\u001b[0m\u001b[0;34m:\u001b[0m\u001b[0;34m-\u001b[0m\u001b[0;36m1\u001b[0m\u001b[0;34m]\u001b[0m\u001b[0;34m,\u001b[0m \u001b[0me\u001b[0m\u001b[0;34m[\u001b[0m\u001b[0;36m1\u001b[0m\u001b[0;34m:\u001b[0m\u001b[0;34m]\u001b[0m\u001b[0;34m)\u001b[0m\u001b[0;34m)\u001b[0m\u001b[0;34m\u001b[0m\u001b[0;34m\u001b[0m\u001b[0m\n",
            "\u001b[0;32m<__array_function__ internals>\u001b[0m in \u001b[0;36mhistogram\u001b[0;34m(*args, **kwargs)\u001b[0m\n",
            "\u001b[0;32m/usr/local/lib/python3.7/dist-packages/numpy/lib/histograms.py\u001b[0m in \u001b[0;36mhistogram\u001b[0;34m(a, bins, range, normed, weights, density)\u001b[0m\n\u001b[1;32m    790\u001b[0m     \u001b[0ma\u001b[0m\u001b[0;34m,\u001b[0m \u001b[0mweights\u001b[0m \u001b[0;34m=\u001b[0m \u001b[0m_ravel_and_check_weights\u001b[0m\u001b[0;34m(\u001b[0m\u001b[0ma\u001b[0m\u001b[0;34m,\u001b[0m \u001b[0mweights\u001b[0m\u001b[0;34m)\u001b[0m\u001b[0;34m\u001b[0m\u001b[0;34m\u001b[0m\u001b[0m\n\u001b[1;32m    791\u001b[0m \u001b[0;34m\u001b[0m\u001b[0m\n\u001b[0;32m--> 792\u001b[0;31m     \u001b[0mbin_edges\u001b[0m\u001b[0;34m,\u001b[0m \u001b[0muniform_bins\u001b[0m \u001b[0;34m=\u001b[0m \u001b[0m_get_bin_edges\u001b[0m\u001b[0;34m(\u001b[0m\u001b[0ma\u001b[0m\u001b[0;34m,\u001b[0m \u001b[0mbins\u001b[0m\u001b[0;34m,\u001b[0m \u001b[0mrange\u001b[0m\u001b[0;34m,\u001b[0m \u001b[0mweights\u001b[0m\u001b[0;34m)\u001b[0m\u001b[0;34m\u001b[0m\u001b[0;34m\u001b[0m\u001b[0m\n\u001b[0m\u001b[1;32m    793\u001b[0m \u001b[0;34m\u001b[0m\u001b[0m\n\u001b[1;32m    794\u001b[0m     \u001b[0;31m# Histogram is an integer or a float array depending on the weights.\u001b[0m\u001b[0;34m\u001b[0m\u001b[0;34m\u001b[0m\u001b[0;34m\u001b[0m\u001b[0m\n",
            "\u001b[0;32m/usr/local/lib/python3.7/dist-packages/numpy/lib/histograms.py\u001b[0m in \u001b[0;36m_get_bin_edges\u001b[0;34m(a, bins, range, weights)\u001b[0m\n\u001b[1;32m    424\u001b[0m             \u001b[0;32mraise\u001b[0m \u001b[0mValueError\u001b[0m\u001b[0;34m(\u001b[0m\u001b[0;34m'`bins` must be positive, when an integer'\u001b[0m\u001b[0;34m)\u001b[0m\u001b[0;34m\u001b[0m\u001b[0;34m\u001b[0m\u001b[0m\n\u001b[1;32m    425\u001b[0m \u001b[0;34m\u001b[0m\u001b[0m\n\u001b[0;32m--> 426\u001b[0;31m         \u001b[0mfirst_edge\u001b[0m\u001b[0;34m,\u001b[0m \u001b[0mlast_edge\u001b[0m \u001b[0;34m=\u001b[0m \u001b[0m_get_outer_edges\u001b[0m\u001b[0;34m(\u001b[0m\u001b[0ma\u001b[0m\u001b[0;34m,\u001b[0m \u001b[0mrange\u001b[0m\u001b[0;34m)\u001b[0m\u001b[0;34m\u001b[0m\u001b[0;34m\u001b[0m\u001b[0m\n\u001b[0m\u001b[1;32m    427\u001b[0m \u001b[0;34m\u001b[0m\u001b[0m\n\u001b[1;32m    428\u001b[0m     \u001b[0;32melif\u001b[0m \u001b[0mnp\u001b[0m\u001b[0;34m.\u001b[0m\u001b[0mndim\u001b[0m\u001b[0;34m(\u001b[0m\u001b[0mbins\u001b[0m\u001b[0;34m)\u001b[0m \u001b[0;34m==\u001b[0m \u001b[0;36m1\u001b[0m\u001b[0;34m:\u001b[0m\u001b[0;34m\u001b[0m\u001b[0;34m\u001b[0m\u001b[0m\n",
            "\u001b[0;32m/usr/local/lib/python3.7/dist-packages/numpy/lib/histograms.py\u001b[0m in \u001b[0;36m_get_outer_edges\u001b[0;34m(a, range)\u001b[0m\n\u001b[1;32m    320\u001b[0m     \u001b[0;32melse\u001b[0m\u001b[0;34m:\u001b[0m\u001b[0;34m\u001b[0m\u001b[0;34m\u001b[0m\u001b[0m\n\u001b[1;32m    321\u001b[0m         \u001b[0mfirst_edge\u001b[0m\u001b[0;34m,\u001b[0m \u001b[0mlast_edge\u001b[0m \u001b[0;34m=\u001b[0m \u001b[0ma\u001b[0m\u001b[0;34m.\u001b[0m\u001b[0mmin\u001b[0m\u001b[0;34m(\u001b[0m\u001b[0;34m)\u001b[0m\u001b[0;34m,\u001b[0m \u001b[0ma\u001b[0m\u001b[0;34m.\u001b[0m\u001b[0mmax\u001b[0m\u001b[0;34m(\u001b[0m\u001b[0;34m)\u001b[0m\u001b[0;34m\u001b[0m\u001b[0;34m\u001b[0m\u001b[0m\n\u001b[0;32m--> 322\u001b[0;31m         \u001b[0;32mif\u001b[0m \u001b[0;32mnot\u001b[0m \u001b[0;34m(\u001b[0m\u001b[0mnp\u001b[0m\u001b[0;34m.\u001b[0m\u001b[0misfinite\u001b[0m\u001b[0;34m(\u001b[0m\u001b[0mfirst_edge\u001b[0m\u001b[0;34m)\u001b[0m \u001b[0;32mand\u001b[0m \u001b[0mnp\u001b[0m\u001b[0;34m.\u001b[0m\u001b[0misfinite\u001b[0m\u001b[0;34m(\u001b[0m\u001b[0mlast_edge\u001b[0m\u001b[0;34m)\u001b[0m\u001b[0;34m)\u001b[0m\u001b[0;34m:\u001b[0m\u001b[0;34m\u001b[0m\u001b[0;34m\u001b[0m\u001b[0m\n\u001b[0m\u001b[1;32m    323\u001b[0m             raise ValueError(\n\u001b[1;32m    324\u001b[0m                 \"autodetected range of [{}, {}] is not finite\".format(first_edge, last_edge))\n",
            "\u001b[0;31mTypeError\u001b[0m: ufunc 'isfinite' not supported for the input types, and the inputs could not be safely coerced to any supported types according to the casting rule ''safe''"
          ]
        }
      ]
    },
    {
      "cell_type": "code",
      "metadata": {
        "id": "wYXfi3DRE7yG"
      },
      "source": [
        ""
      ],
      "execution_count": null,
      "outputs": []
    }
  ]
}