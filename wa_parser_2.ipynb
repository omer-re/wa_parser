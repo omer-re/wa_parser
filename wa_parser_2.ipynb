{
  "nbformat": 4,
  "nbformat_minor": 0,
  "metadata": {
    "colab": {
      "name": "wa_parser_2.ipynb",
      "provenance": [],
      "authorship_tag": "ABX9TyOcoLvfkRUCGX/Pah5FKqTz",
      "include_colab_link": true
    },
    "kernelspec": {
      "name": "python3",
      "display_name": "Python 3"
    },
    "language_info": {
      "name": "python"
    }
  },
  "cells": [
    {
      "cell_type": "markdown",
      "metadata": {
        "id": "view-in-github",
        "colab_type": "text"
      },
      "source": [
        "<a href=\"https://colab.research.google.com/github/omer-re/wa_parser/blob/master/wa_parser_2.ipynb\" target=\"_parent\"><img src=\"https://colab.research.google.com/assets/colab-badge.svg\" alt=\"Open In Colab\"/></a>"
      ]
    },
    {
      "cell_type": "code",
      "metadata": {
        "id": "F_Wn23-oc-ej"
      },
      "source": [
        "# source/inspired by: https://www.imrankhan.dev/pages/Exploring%20WhatsApp%20chats%20with%20Python.html\n",
        "import datetime\n",
        "\n",
        "from dateutil.parser import parse\n",
        "import pandas as pd\n",
        "import re\n",
        "import itertools\n",
        "import numpy as np\n",
        "import pandas as pd\n",
        "import matplotlib.pyplot as plt\n",
        "from matplotlib.ticker import StrMethodFormatter\n",
        "import matplotlib.pyplot as plt\n",
        "from prettytable import PrettyTable\n",
        "import plotly.express as px\n",
        "\n",
        "from google.colab import files\n",
        "from google.colab import drive\n"
      ],
      "execution_count": 3,
      "outputs": []
    },
    {
      "cell_type": "code",
      "metadata": {
        "id": "nPA8BdEkdEpQ"
      },
      "source": [
        "def is_date(string, fuzzy=False):\n",
        "    \"\"\"\n",
        "    Return whether the string can be interpreted as a date.\n",
        "\n",
        "    :param string: str, string to check for date\n",
        "    :param fuzzy: bool, ignore unknown tokens in string if True\n",
        "    \"\"\"\n",
        "    try:\n",
        "        parse(string, fuzzy=fuzzy)\n",
        "        return True\n",
        "\n",
        "    except ValueError:\n",
        "        return False"
      ],
      "execution_count": 4,
      "outputs": []
    },
    {
      "cell_type": "code",
      "metadata": {
        "colab": {
          "base_uri": "https://localhost:8080/"
        },
        "id": "ZDuPx5YJdFAT",
        "outputId": "a9867093-e789-4cbc-afb5-24528f7ef01e"
      },
      "source": [
        "file = files.upload()\n",
        "chat_file = f\"/content/{list(file.keys())[0]}\"\n",
        "#chat_file='mob-ilai.txt'\n",
        "#drive.mount('/mob-ilai.txt')"
      ],
      "execution_count": 9,
      "outputs": [
        {
          "output_type": "stream",
          "name": "stdout",
          "text": [
            "Mounted at /mob-ilai.txt\n"
          ]
        }
      ]
    },
    {
      "cell_type": "code",
      "metadata": {
        "id": "WZgu_IEudPdD"
      },
      "source": [
        "def parse_file(text_file):\n",
        "    senders = []; messages = []; dates=[];times = []; timestamps=[]; directions=[];minutes=[];hours=[];\n",
        "\n",
        "    word_list=['מעלית','חכו']\n",
        "    f=open(chat_file,'r',encoding='utf8')\n",
        "    lines=f.readlines()\n",
        "    for i,line in enumerate(lines):\n",
        "        if ('/' in line[:4]) and is_date(line.split('-',1)[0].split(',',1)[0]):\n",
        "            date=line.split('-',1)[0].split(',',1)[0]\n",
        "            try:\n",
        "                time=line.split('-',1)[0].split(',',1)[1]\n",
        "            except:\n",
        "                print(line)\n",
        "            sender_message=line.split('-',1)[1]\n",
        "            separator=sender_message.find(':')\n",
        "            if separator==(-1):\n",
        "                continue\n",
        "            timestamp= line.split('-',1)[0]\n",
        "            sender=sender_message[:separator]\n",
        "            message=sender_message[separator+1:]\n",
        "\n",
        "            dates.append(date.strip())\n",
        "            times.append(time.strip())\n",
        "            #hr_mn=time.strip().split(':')\n",
        "            mnt=time.strip().split(':')[1]\n",
        "            minutes.append(int(mnt[:-3]))\n",
        "            hour=time.strip().split(':')[0]\n",
        "            if 'AM' in time or time.strip().startswith('0'):\n",
        "                direction='morning'\n",
        "            else:\n",
        "                direction='evening'\n",
        "                hour=int(hour)+12\n",
        "            hours.append(int(hour))\n",
        "            directions.append(direction)\n",
        "            senders.append(sender)\n",
        "            messages.append(message.replace('\\n',''))\n",
        "            timestamps.append(timestamp[:-1])\n",
        "\n",
        "\n",
        "        else: # it is not a new message but new line of previous message\n",
        "            new_msg=message+line\n",
        "            messages[-1]=new_msg\n",
        "\n",
        "\n",
        "    df = pd.DataFrame(zip(timestamps, dates, times,hours, minutes,directions, senders, messages), columns=['timestamps', 'date', 'time','hours','minutes','direction','sender', 'message'])\n",
        "    df['timestamps'] = pd.to_datetime(df.timestamps, format='%m/%d/%y, %I:%M %p')\n",
        "    df['time'] = pd.to_datetime(df.time, format='%I:%M %p').dt.time\n",
        "    df['date'] = pd.to_datetime(df.date, format='%m/%d/%y').dt.date\n",
        "\n",
        "    return df"
      ],
      "execution_count": 10,
      "outputs": []
    },
    {
      "cell_type": "code",
      "metadata": {
        "id": "ZIHOwVGYdQt9"
      },
      "source": [
        "from prettytable import PrettyTable\n",
        "import tabulate\n",
        "# source: https://www.stackvidhya.com/pretty-print-dataframe/\n",
        "pd.set_option('display.max_rows', None)\n",
        "pd.set_option('display.max_columns', None)\n",
        "pd.set_option('display.width', 1000)\n",
        "pd.set_option('display.colheader_justify', 'center')\n",
        "pd.set_option('display.precision', 3)\n",
        "\n",
        "df = parse_file(chat_file)\n",
        "\n",
        "df.set_index(df['timestamps'])\n",
        "df.index=pd.to_datetime(df.index)\n",
        "#print(df.head(20).to_markdown(index=False)) \n"
      ],
      "execution_count": 28,
      "outputs": []
    },
    {
      "cell_type": "code",
      "metadata": {
        "id": "hSuV9YpbdXba"
      },
      "source": [
        "laters=df[df['message'].str.contains('לחכות|דקה|חכו|מעלית')]\n",
        "#print(laters.to_markdown(index=False)) \n",
        "\n",
        "contain_words=df[df['message'].str.contains('לחכות|דקה|חכו|מעלית')]\n",
        "contain_words2=df['message'].str.contains('לחכות|דקה|חכו|מעלית')\n",
        "\n",
        "after_650=(df['hours']==6)       & (df['minutes']>50)\n",
        "before_730=df[(df['hours']==7)   & (df['minutes']<30)]\n",
        "# morning_range_7= (after_650 | before_730)\n",
        "\n",
        "after_750=(df['hours']==7)       & (df['minutes']>50)\n",
        "before_830=df[(df['hours']==8)   & (df['minutes']<30)]\n",
        "# morning_range_8= (after_750 | before_830)\n",
        "\n",
        "after_1650=df[(df['hours']==16)  & (df['minutes']>50)]\n",
        "before_1710=df[(df['hours']==17) & (df['minutes']<10)]\n",
        "# evening_range_17= (after_1650 | before_1710)\n",
        "\n",
        "\n",
        "after_1750=df[(df['hours']==17)  & (df['minutes']>50)]\n",
        "before_1810=df[(df['hours']==18) & (df['minutes']<10)]\n",
        "# evening_range_18= (after_1750 | before_1810)\n",
        "\n",
        "\n",
        "admins=['+972 50-201-2346', '+972 50-424-0266', '+972 50-571-4490', '+972 50-789-8030', '+972 52-854-5176', '+972 54-338-2794', '+972 54-658-1834']\n",
        "#admins_mask = df['sender']==(lambda x: any(item for item in selection if item in admins))\n",
        "\n",
        "laters=df[(df['message'].str.contains('לחכות|דקה|חכו|מעלית'))  &\n",
        "          (\n",
        "              ((df['hours']==6) & (df['minutes']>50)  | (df['hours']==7) & (df['minutes']<30))\n",
        "            | ((df['hours']==7) & (df['minutes']>50)  | (df['hours']==8) & (df['minutes']<30))\n",
        "            | ((df['hours']==16) & (df['minutes']>50) | (df['hours']==17) & (df['minutes']<10))\n",
        "            | ((df['hours']==17) & (df['minutes']>50) | (df['hours']==18) & (df['minutes']<10))\n",
        "          ) \n",
        "          ]\n",
        "\n",
        "#print(laters.head(20).to_markdown(index=True))"
      ],
      "execution_count": 29,
      "outputs": []
    },
    {
      "cell_type": "code",
      "metadata": {
        "colab": {
          "base_uri": "https://localhost:8080/",
          "height": 422
        },
        "id": "w_49FW3gdfs9",
        "outputId": "f7527de0-6a6f-41aa-eab4-4d5d7101a2b8"
      },
      "source": [
        "#laters3=laters[laters['message'].str.contains('לחכות|דקה|חכו|מעלית')]\n",
        "#laters_fin = laters3[(laters2[\"minutes\"]<10) | (laters2[\"minutes\"] > 50)]\n",
        "laters_group_by = laters.groupby([\"sender\", \"direction\"])['timestamps'].count().unstack()\n",
        "laters_group_by = laters_group_by.fillna(0)\n",
        "laters_group_by[\"sum\"] = laters_group_by[\"evening\"] + laters_group_by[\"morning\"]\n",
        "laters_group_by = laters_group_by.sort_values(by='sum', ascending=False)\n",
        "graph= laters_group_by[[\"evening\", \"morning\"]].head(20).plot.bar(figsize=(12,5),stacked=True)\n"
      ],
      "execution_count": 27,
      "outputs": [
        {
          "output_type": "display_data",
          "data": {
            "image/png": "[encoded data removed]",
            "text/plain": [
              "<Figure size 864x360 with 1 Axes>"
            ]
          },
          "metadata": {
            "needs_background": "light"
          }
        }
      ]
    },
    {
      "cell_type": "code",
      "metadata": {
        "id": "N_LV-ihTgze7"
      },
      "source": [
        ""
      ],
      "execution_count": null,
      "outputs": []
    }
  ]
}
